{
 "cells": [
  {
   "cell_type": "markdown",
   "id": "d5cf40a2",
   "metadata": {},
   "source": [
    "<h2 style='text-align: right;'> Vinayasree Kalburgi </h2>"
   ]
  },
  {
   "cell_type": "markdown",
   "id": "509bd419",
   "metadata": {},
   "source": [
    "# <b><u> Project Title : CUSTOMER CLASSIFICATION </u></b>"
   ]
  },
  {
   "cell_type": "markdown",
   "id": "3beff83c",
   "metadata": {},
   "source": [
    "## Project Description"
   ]
  },
  {
   "cell_type": "markdown",
   "id": "2fd018c6",
   "metadata": {},
   "source": [
    "### Company Introduction\n",
    "Your client for this project is a retail banking institution.\n",
    "\n",
    "- They are going to float a stock trading facility for their existing customers.\n",
    "- The idea is to use data to classify whether a customer belongs to a high net worth or low net worth group.\n",
    "- They will have to incentivize their customers to adopt their offerings.\n",
    "- One way to incentivize is to offer discounts on the commission for trading transactions."
   ]
  },
  {
   "cell_type": "markdown",
   "id": "fee0b657",
   "metadata": {},
   "source": [
    "### Current Scenario\n",
    "The company rolled out this service to about 10,000+ of its customers and observed their trading behavior for 6 months and after that, they labeled them into two revenue grids 1 and 2."
   ]
  },
  {
   "cell_type": "markdown",
   "id": "b93b1298",
   "metadata": {},
   "source": [
    "## Problem Statement"
   ]
  },
  {
   "cell_type": "markdown",
   "id": "241245f3",
   "metadata": {},
   "source": [
    "The current process suffers from the following problems:\n",
    "\n",
    "- One issue is that only about 10% of the customers do enough trades for earnings after discounts to be profitable.\n",
    "- The company wants to figure out, which are those 10% customers so that it can selectively offer them a discount.\n",
    "\n",
    "The marketing department has hired you as a data science consultant because they want to supplement their campaigns with a more proactive approach.\n",
    "\n",
    "Your Role\n",
    "- You are given datasets of past customers and their status (Revenue Grid 1 or 2).\n",
    "- Your task is to build a classification model using the datasets.\n",
    "- You need to build the best possible model.\n",
    "\n",
    "Project Deliverables\n",
    "- Deliverable: Predict whether a customer belongs to a high net worth or low net worth group.\n",
    "- Machine Learning Task: Classification\n",
    "- Target Variable: Status (high net worth (1) / low net worth (2))\n",
    "- Win Condition: N/A (best possible model)\n",
    "\n",
    "Evaluation Metric\n",
    "- The model evaluation will be based on the F1 Score score."
   ]
  },
  {
   "cell_type": "markdown",
   "id": "ddfe516a",
   "metadata": {},
   "source": [
    "## Data Description"
   ]
  },
  {
   "cell_type": "markdown",
   "id": "25448f50",
   "metadata": {},
   "source": [
    "We are provided with a dataset containing all the necessary information about the customers like their occupation, family income, gender, region, balance transfer, children, etc.\n",
    "\n",
    "Also included in the dataset is the column Revenue_Grid which classifies the customers into high net worth customers (1) and low net worth customers (2).\n",
    "\n",
    "This is the data that we have to predict for future customers.\n",
    "\n",
    "The dataset is divided into two parts: Train, and Test sets.\n",
    "\n",
    "##### Train Set:\n",
    "The train set contains 8124 rows and 32 columns.\n",
    "The last column Revenue_Grid is the target variable.\n",
    "\n",
    "##### Test Set:\n",
    "The test set contains 2031 rows and 31 columns.\n",
    "The test set doesn’t contain the Revenue_Grid column.\n",
    "It needs to be predicted for the test set."
   ]
  },
  {
   "cell_type": "markdown",
   "id": "661fc2aa",
   "metadata": {},
   "source": [
    "### Installing & Importing Libraries"
   ]
  },
  {
   "cell_type": "code",
   "execution_count": 1,
   "id": "ca7f5aec",
   "metadata": {},
   "outputs": [],
   "source": [
    "import numpy as np\n",
    "import pandas as pd"
   ]
  },
  {
   "cell_type": "markdown",
   "id": "973edc82",
   "metadata": {},
   "source": [
    "##### Data Information"
   ]
  },
  {
   "cell_type": "code",
   "execution_count": 3,
   "id": "721a2e49",
   "metadata": {},
   "outputs": [
    {
     "data": {
      "text/html": [
       "<div>\n",
       "<style scoped>\n",
       "    .dataframe tbody tr th:only-of-type {\n",
       "        vertical-align: middle;\n",
       "    }\n",
       "\n",
       "    .dataframe tbody tr th {\n",
       "        vertical-align: top;\n",
       "    }\n",
       "\n",
       "    .dataframe thead th {\n",
       "        text-align: right;\n",
       "    }\n",
       "</style>\n",
       "<table border=\"1\" class=\"dataframe\">\n",
       "  <thead>\n",
       "    <tr style=\"text-align: right;\">\n",
       "      <th></th>\n",
       "      <th>REF_NO</th>\n",
       "      <th>children</th>\n",
       "      <th>age_band</th>\n",
       "      <th>status</th>\n",
       "      <th>occupation</th>\n",
       "      <th>occupation_partner</th>\n",
       "      <th>home_status</th>\n",
       "      <th>family_income</th>\n",
       "      <th>self_employed</th>\n",
       "      <th>self_employed_partner</th>\n",
       "      <th>...</th>\n",
       "      <th>Investment_Tax_Saving_Bond</th>\n",
       "      <th>Home_Loan</th>\n",
       "      <th>Online_Purchase_Amount</th>\n",
       "      <th>gender</th>\n",
       "      <th>region</th>\n",
       "      <th>Investment_in_Commudity</th>\n",
       "      <th>Investment_in_Equity</th>\n",
       "      <th>Investment_in_Derivative</th>\n",
       "      <th>Portfolio_Balance</th>\n",
       "      <th>Revenue_Grid</th>\n",
       "    </tr>\n",
       "  </thead>\n",
       "  <tbody>\n",
       "    <tr>\n",
       "      <th>0</th>\n",
       "      <td>5466</td>\n",
       "      <td>2</td>\n",
       "      <td>31-35</td>\n",
       "      <td>Partner</td>\n",
       "      <td>Professional</td>\n",
       "      <td>Professional</td>\n",
       "      <td>Own Home</td>\n",
       "      <td>&gt;=35,000</td>\n",
       "      <td>No</td>\n",
       "      <td>No</td>\n",
       "      <td>...</td>\n",
       "      <td>8.98</td>\n",
       "      <td>55.44</td>\n",
       "      <td>7.68</td>\n",
       "      <td>Female</td>\n",
       "      <td>North West</td>\n",
       "      <td>151.55</td>\n",
       "      <td>81.79</td>\n",
       "      <td>136.02</td>\n",
       "      <td>360.37</td>\n",
       "      <td>2</td>\n",
       "    </tr>\n",
       "    <tr>\n",
       "      <th>1</th>\n",
       "      <td>9091</td>\n",
       "      <td>Zero</td>\n",
       "      <td>45-50</td>\n",
       "      <td>Partner</td>\n",
       "      <td>Secretarial/Admin</td>\n",
       "      <td>Professional</td>\n",
       "      <td>Own Home</td>\n",
       "      <td>&gt;=35,000</td>\n",
       "      <td>No</td>\n",
       "      <td>No</td>\n",
       "      <td>...</td>\n",
       "      <td>0.00</td>\n",
       "      <td>0.00</td>\n",
       "      <td>18.99</td>\n",
       "      <td>Female</td>\n",
       "      <td>North West</td>\n",
       "      <td>44.28</td>\n",
       "      <td>13.91</td>\n",
       "      <td>29.23</td>\n",
       "      <td>89.22</td>\n",
       "      <td>2</td>\n",
       "    </tr>\n",
       "    <tr>\n",
       "      <th>2</th>\n",
       "      <td>9744</td>\n",
       "      <td>1</td>\n",
       "      <td>36-40</td>\n",
       "      <td>Partner</td>\n",
       "      <td>Manual Worker</td>\n",
       "      <td>Manual Worker</td>\n",
       "      <td>Rent Privately</td>\n",
       "      <td>&lt;22,500, &gt;=20,000</td>\n",
       "      <td>Yes</td>\n",
       "      <td>Yes</td>\n",
       "      <td>...</td>\n",
       "      <td>0.00</td>\n",
       "      <td>0.00</td>\n",
       "      <td>0.00</td>\n",
       "      <td>Female</td>\n",
       "      <td>South West</td>\n",
       "      <td>8.58</td>\n",
       "      <td>1.75</td>\n",
       "      <td>4.82</td>\n",
       "      <td>14.50</td>\n",
       "      <td>2</td>\n",
       "    </tr>\n",
       "    <tr>\n",
       "      <th>3</th>\n",
       "      <td>10700</td>\n",
       "      <td>2</td>\n",
       "      <td>31-35</td>\n",
       "      <td>Partner</td>\n",
       "      <td>Manual Worker</td>\n",
       "      <td>Manual Worker</td>\n",
       "      <td>Own Home</td>\n",
       "      <td>&lt;25,000, &gt;=22,500</td>\n",
       "      <td>No</td>\n",
       "      <td>No</td>\n",
       "      <td>...</td>\n",
       "      <td>0.00</td>\n",
       "      <td>0.00</td>\n",
       "      <td>0.00</td>\n",
       "      <td>Female</td>\n",
       "      <td>Scotland</td>\n",
       "      <td>15.00</td>\n",
       "      <td>0.00</td>\n",
       "      <td>5.00</td>\n",
       "      <td>68.98</td>\n",
       "      <td>2</td>\n",
       "    </tr>\n",
       "    <tr>\n",
       "      <th>4</th>\n",
       "      <td>1987</td>\n",
       "      <td>Zero</td>\n",
       "      <td>55-60</td>\n",
       "      <td>Partner</td>\n",
       "      <td>Housewife</td>\n",
       "      <td>Professional</td>\n",
       "      <td>Own Home</td>\n",
       "      <td>&gt;=35,000</td>\n",
       "      <td>No</td>\n",
       "      <td>No</td>\n",
       "      <td>...</td>\n",
       "      <td>0.00</td>\n",
       "      <td>0.00</td>\n",
       "      <td>0.00</td>\n",
       "      <td>Female</td>\n",
       "      <td>Unknown</td>\n",
       "      <td>0.00</td>\n",
       "      <td>1.66</td>\n",
       "      <td>1.66</td>\n",
       "      <td>1.88</td>\n",
       "      <td>2</td>\n",
       "    </tr>\n",
       "  </tbody>\n",
       "</table>\n",
       "<p>5 rows × 32 columns</p>\n",
       "</div>"
      ],
      "text/plain": [
       "   REF_NO children age_band   status         occupation occupation_partner  \\\n",
       "0    5466        2    31-35  Partner       Professional       Professional   \n",
       "1    9091     Zero    45-50  Partner  Secretarial/Admin       Professional   \n",
       "2    9744        1    36-40  Partner      Manual Worker      Manual Worker   \n",
       "3   10700        2    31-35  Partner      Manual Worker      Manual Worker   \n",
       "4    1987     Zero    55-60  Partner          Housewife       Professional   \n",
       "\n",
       "      home_status      family_income self_employed self_employed_partner  ...  \\\n",
       "0        Own Home           >=35,000            No                    No  ...   \n",
       "1        Own Home           >=35,000            No                    No  ...   \n",
       "2  Rent Privately  <22,500, >=20,000           Yes                   Yes  ...   \n",
       "3        Own Home  <25,000, >=22,500            No                    No  ...   \n",
       "4        Own Home           >=35,000            No                    No  ...   \n",
       "\n",
       "   Investment_Tax_Saving_Bond Home_Loan Online_Purchase_Amount  gender  \\\n",
       "0                        8.98     55.44                   7.68  Female   \n",
       "1                        0.00      0.00                  18.99  Female   \n",
       "2                        0.00      0.00                   0.00  Female   \n",
       "3                        0.00      0.00                   0.00  Female   \n",
       "4                        0.00      0.00                   0.00  Female   \n",
       "\n",
       "       region  Investment_in_Commudity  Investment_in_Equity  \\\n",
       "0  North West                   151.55                 81.79   \n",
       "1  North West                    44.28                 13.91   \n",
       "2  South West                     8.58                  1.75   \n",
       "3    Scotland                    15.00                  0.00   \n",
       "4     Unknown                     0.00                  1.66   \n",
       "\n",
       "   Investment_in_Derivative  Portfolio_Balance  Revenue_Grid  \n",
       "0                    136.02             360.37             2  \n",
       "1                     29.23              89.22             2  \n",
       "2                      4.82              14.50             2  \n",
       "3                      5.00              68.98             2  \n",
       "4                      1.66               1.88             2  \n",
       "\n",
       "[5 rows x 32 columns]"
      ]
     },
     "execution_count": 3,
     "metadata": {},
     "output_type": "execute_result"
    }
   ],
   "source": [
    "customer_class = pd.read_csv('existing_base_train.csv')\n",
    "customer_class.head()"
   ]
  },
  {
   "cell_type": "code",
   "execution_count": 4,
   "id": "ca92026e",
   "metadata": {},
   "outputs": [
    {
     "data": {
      "text/plain": [
       "2    7264\n",
       "1     860\n",
       "Name: Revenue_Grid, dtype: int64"
      ]
     },
     "execution_count": 4,
     "metadata": {},
     "output_type": "execute_result"
    }
   ],
   "source": [
    "customer_class['Revenue_Grid'].value_counts()"
   ]
  },
  {
   "cell_type": "code",
   "execution_count": 5,
   "id": "bc00a996",
   "metadata": {},
   "outputs": [
    {
     "data": {
      "text/plain": [
       "REF_NO                               int64\n",
       "children                            object\n",
       "age_band                            object\n",
       "status                              object\n",
       "occupation                          object\n",
       "occupation_partner                  object\n",
       "home_status                         object\n",
       "family_income                       object\n",
       "self_employed                       object\n",
       "self_employed_partner               object\n",
       "year_last_moved                      int64\n",
       "TVarea                              object\n",
       "post_code                           object\n",
       "post_area                           object\n",
       "Average_Credit_Card_Transaction    float64\n",
       "Balance_Transfer                   float64\n",
       "Term_Deposit                       float64\n",
       "Life_Insurance                     float64\n",
       "Medical_Insurance                  float64\n",
       "Average_A/C_Balance                float64\n",
       "Personal_Loan                      float64\n",
       "Investment_in_Mutual_Fund          float64\n",
       "Investment_Tax_Saving_Bond         float64\n",
       "Home_Loan                          float64\n",
       "Online_Purchase_Amount             float64\n",
       "gender                              object\n",
       "region                              object\n",
       "Investment_in_Commudity            float64\n",
       "Investment_in_Equity               float64\n",
       "Investment_in_Derivative           float64\n",
       "Portfolio_Balance                  float64\n",
       "Revenue_Grid                         int64\n",
       "dtype: object"
      ]
     },
     "execution_count": 5,
     "metadata": {},
     "output_type": "execute_result"
    }
   ],
   "source": [
    "customer_class.dtypes"
   ]
  },
  {
   "cell_type": "code",
   "execution_count": 7,
   "id": "6013a3c0",
   "metadata": {},
   "outputs": [
    {
     "data": {
      "text/html": [
       "<div>\n",
       "<style scoped>\n",
       "    .dataframe tbody tr th:only-of-type {\n",
       "        vertical-align: middle;\n",
       "    }\n",
       "\n",
       "    .dataframe tbody tr th {\n",
       "        vertical-align: top;\n",
       "    }\n",
       "\n",
       "    .dataframe thead th {\n",
       "        text-align: right;\n",
       "    }\n",
       "</style>\n",
       "<table border=\"1\" class=\"dataframe\">\n",
       "  <thead>\n",
       "    <tr style=\"text-align: right;\">\n",
       "      <th></th>\n",
       "      <th>REF_NO</th>\n",
       "      <th>year_last_moved</th>\n",
       "      <th>Average_Credit_Card_Transaction</th>\n",
       "      <th>Balance_Transfer</th>\n",
       "      <th>Term_Deposit</th>\n",
       "      <th>Life_Insurance</th>\n",
       "      <th>Medical_Insurance</th>\n",
       "      <th>Average_A/C_Balance</th>\n",
       "      <th>Personal_Loan</th>\n",
       "      <th>Investment_in_Mutual_Fund</th>\n",
       "      <th>Investment_Tax_Saving_Bond</th>\n",
       "      <th>Home_Loan</th>\n",
       "      <th>Online_Purchase_Amount</th>\n",
       "      <th>Investment_in_Commudity</th>\n",
       "      <th>Investment_in_Equity</th>\n",
       "      <th>Investment_in_Derivative</th>\n",
       "      <th>Portfolio_Balance</th>\n",
       "      <th>Revenue_Grid</th>\n",
       "    </tr>\n",
       "  </thead>\n",
       "  <tbody>\n",
       "    <tr>\n",
       "      <th>count</th>\n",
       "      <td>8124.000000</td>\n",
       "      <td>8124.000000</td>\n",
       "      <td>8124.000000</td>\n",
       "      <td>8124.000000</td>\n",
       "      <td>8124.000000</td>\n",
       "      <td>8124.000000</td>\n",
       "      <td>8124.000000</td>\n",
       "      <td>8124.000000</td>\n",
       "      <td>8124.00000</td>\n",
       "      <td>8124.000000</td>\n",
       "      <td>8124.000000</td>\n",
       "      <td>8124.000000</td>\n",
       "      <td>8124.000000</td>\n",
       "      <td>8124.000000</td>\n",
       "      <td>8124.000000</td>\n",
       "      <td>8124.000000</td>\n",
       "      <td>8124.000000</td>\n",
       "      <td>8124.000000</td>\n",
       "    </tr>\n",
       "    <tr>\n",
       "      <th>mean</th>\n",
       "      <td>5797.343304</td>\n",
       "      <td>1967.876908</td>\n",
       "      <td>23.251094</td>\n",
       "      <td>46.082922</td>\n",
       "      <td>27.284649</td>\n",
       "      <td>65.317939</td>\n",
       "      <td>18.826195</td>\n",
       "      <td>31.838023</td>\n",
       "      <td>25.41583</td>\n",
       "      <td>41.723628</td>\n",
       "      <td>6.057246</td>\n",
       "      <td>4.416914</td>\n",
       "      <td>19.198658</td>\n",
       "      <td>36.152749</td>\n",
       "      <td>21.442475</td>\n",
       "      <td>31.530652</td>\n",
       "      <td>89.353368</td>\n",
       "      <td>1.894141</td>\n",
       "    </tr>\n",
       "    <tr>\n",
       "      <th>std</th>\n",
       "      <td>3322.497568</td>\n",
       "      <td>182.563785</td>\n",
       "      <td>51.147496</td>\n",
       "      <td>79.084692</td>\n",
       "      <td>54.133537</td>\n",
       "      <td>95.762451</td>\n",
       "      <td>32.022332</td>\n",
       "      <td>45.249440</td>\n",
       "      <td>85.13015</td>\n",
       "      <td>64.416023</td>\n",
       "      <td>12.673374</td>\n",
       "      <td>9.945747</td>\n",
       "      <td>92.343126</td>\n",
       "      <td>42.474953</td>\n",
       "      <td>32.261660</td>\n",
       "      <td>39.480660</td>\n",
       "      <td>108.303538</td>\n",
       "      <td>0.307676</td>\n",
       "    </tr>\n",
       "    <tr>\n",
       "      <th>min</th>\n",
       "      <td>2.000000</td>\n",
       "      <td>0.000000</td>\n",
       "      <td>0.000000</td>\n",
       "      <td>0.000000</td>\n",
       "      <td>0.000000</td>\n",
       "      <td>0.000000</td>\n",
       "      <td>0.000000</td>\n",
       "      <td>0.000000</td>\n",
       "      <td>0.00000</td>\n",
       "      <td>0.000000</td>\n",
       "      <td>0.000000</td>\n",
       "      <td>0.000000</td>\n",
       "      <td>0.000000</td>\n",
       "      <td>0.000000</td>\n",
       "      <td>0.000000</td>\n",
       "      <td>0.000000</td>\n",
       "      <td>-78.430000</td>\n",
       "      <td>1.000000</td>\n",
       "    </tr>\n",
       "    <tr>\n",
       "      <th>25%</th>\n",
       "      <td>2924.750000</td>\n",
       "      <td>1978.000000</td>\n",
       "      <td>0.000000</td>\n",
       "      <td>0.000000</td>\n",
       "      <td>0.000000</td>\n",
       "      <td>0.000000</td>\n",
       "      <td>0.000000</td>\n",
       "      <td>0.000000</td>\n",
       "      <td>0.00000</td>\n",
       "      <td>0.000000</td>\n",
       "      <td>0.000000</td>\n",
       "      <td>0.000000</td>\n",
       "      <td>0.000000</td>\n",
       "      <td>8.282500</td>\n",
       "      <td>4.660000</td>\n",
       "      <td>8.740000</td>\n",
       "      <td>26.277500</td>\n",
       "      <td>2.000000</td>\n",
       "    </tr>\n",
       "    <tr>\n",
       "      <th>50%</th>\n",
       "      <td>5811.500000</td>\n",
       "      <td>1988.000000</td>\n",
       "      <td>0.000000</td>\n",
       "      <td>17.485000</td>\n",
       "      <td>0.000000</td>\n",
       "      <td>31.475000</td>\n",
       "      <td>0.010000</td>\n",
       "      <td>14.980000</td>\n",
       "      <td>0.00000</td>\n",
       "      <td>23.480000</td>\n",
       "      <td>0.000000</td>\n",
       "      <td>0.000000</td>\n",
       "      <td>0.000000</td>\n",
       "      <td>23.590000</td>\n",
       "      <td>12.820000</td>\n",
       "      <td>21.140000</td>\n",
       "      <td>65.560000</td>\n",
       "      <td>2.000000</td>\n",
       "    </tr>\n",
       "    <tr>\n",
       "      <th>75%</th>\n",
       "      <td>8681.500000</td>\n",
       "      <td>1994.000000</td>\n",
       "      <td>23.480000</td>\n",
       "      <td>64.990000</td>\n",
       "      <td>34.490000</td>\n",
       "      <td>92.887500</td>\n",
       "      <td>26.970000</td>\n",
       "      <td>45.922500</td>\n",
       "      <td>20.82750</td>\n",
       "      <td>59.440000</td>\n",
       "      <td>5.490000</td>\n",
       "      <td>4.490000</td>\n",
       "      <td>7.480000</td>\n",
       "      <td>49.795000</td>\n",
       "      <td>27.972500</td>\n",
       "      <td>42.392500</td>\n",
       "      <td>123.970000</td>\n",
       "      <td>2.000000</td>\n",
       "    </tr>\n",
       "    <tr>\n",
       "      <th>max</th>\n",
       "      <td>11518.000000</td>\n",
       "      <td>1999.000000</td>\n",
       "      <td>662.260000</td>\n",
       "      <td>2951.760000</td>\n",
       "      <td>784.820000</td>\n",
       "      <td>2930.410000</td>\n",
       "      <td>591.040000</td>\n",
       "      <td>626.240000</td>\n",
       "      <td>4905.93000</td>\n",
       "      <td>2561.270000</td>\n",
       "      <td>156.870000</td>\n",
       "      <td>162.350000</td>\n",
       "      <td>4306.420000</td>\n",
       "      <td>1231.090000</td>\n",
       "      <td>1279.100000</td>\n",
       "      <td>1771.160000</td>\n",
       "      <td>4283.560000</td>\n",
       "      <td>2.000000</td>\n",
       "    </tr>\n",
       "  </tbody>\n",
       "</table>\n",
       "</div>"
      ],
      "text/plain": [
       "             REF_NO  year_last_moved  Average_Credit_Card_Transaction  \\\n",
       "count   8124.000000      8124.000000                      8124.000000   \n",
       "mean    5797.343304      1967.876908                        23.251094   \n",
       "std     3322.497568       182.563785                        51.147496   \n",
       "min        2.000000         0.000000                         0.000000   \n",
       "25%     2924.750000      1978.000000                         0.000000   \n",
       "50%     5811.500000      1988.000000                         0.000000   \n",
       "75%     8681.500000      1994.000000                        23.480000   \n",
       "max    11518.000000      1999.000000                       662.260000   \n",
       "\n",
       "       Balance_Transfer  Term_Deposit  Life_Insurance  Medical_Insurance  \\\n",
       "count       8124.000000   8124.000000     8124.000000        8124.000000   \n",
       "mean          46.082922     27.284649       65.317939          18.826195   \n",
       "std           79.084692     54.133537       95.762451          32.022332   \n",
       "min            0.000000      0.000000        0.000000           0.000000   \n",
       "25%            0.000000      0.000000        0.000000           0.000000   \n",
       "50%           17.485000      0.000000       31.475000           0.010000   \n",
       "75%           64.990000     34.490000       92.887500          26.970000   \n",
       "max         2951.760000    784.820000     2930.410000         591.040000   \n",
       "\n",
       "       Average_A/C_Balance  Personal_Loan  Investment_in_Mutual_Fund  \\\n",
       "count          8124.000000     8124.00000                8124.000000   \n",
       "mean             31.838023       25.41583                  41.723628   \n",
       "std              45.249440       85.13015                  64.416023   \n",
       "min               0.000000        0.00000                   0.000000   \n",
       "25%               0.000000        0.00000                   0.000000   \n",
       "50%              14.980000        0.00000                  23.480000   \n",
       "75%              45.922500       20.82750                  59.440000   \n",
       "max             626.240000     4905.93000                2561.270000   \n",
       "\n",
       "       Investment_Tax_Saving_Bond    Home_Loan  Online_Purchase_Amount  \\\n",
       "count                 8124.000000  8124.000000             8124.000000   \n",
       "mean                     6.057246     4.416914               19.198658   \n",
       "std                     12.673374     9.945747               92.343126   \n",
       "min                      0.000000     0.000000                0.000000   \n",
       "25%                      0.000000     0.000000                0.000000   \n",
       "50%                      0.000000     0.000000                0.000000   \n",
       "75%                      5.490000     4.490000                7.480000   \n",
       "max                    156.870000   162.350000             4306.420000   \n",
       "\n",
       "       Investment_in_Commudity  Investment_in_Equity  \\\n",
       "count              8124.000000           8124.000000   \n",
       "mean                 36.152749             21.442475   \n",
       "std                  42.474953             32.261660   \n",
       "min                   0.000000              0.000000   \n",
       "25%                   8.282500              4.660000   \n",
       "50%                  23.590000             12.820000   \n",
       "75%                  49.795000             27.972500   \n",
       "max                1231.090000           1279.100000   \n",
       "\n",
       "       Investment_in_Derivative  Portfolio_Balance  Revenue_Grid  \n",
       "count               8124.000000        8124.000000   8124.000000  \n",
       "mean                  31.530652          89.353368      1.894141  \n",
       "std                   39.480660         108.303538      0.307676  \n",
       "min                    0.000000         -78.430000      1.000000  \n",
       "25%                    8.740000          26.277500      2.000000  \n",
       "50%                   21.140000          65.560000      2.000000  \n",
       "75%                   42.392500         123.970000      2.000000  \n",
       "max                 1771.160000        4283.560000      2.000000  "
      ]
     },
     "execution_count": 7,
     "metadata": {},
     "output_type": "execute_result"
    }
   ],
   "source": [
    "customer_class.describe()"
   ]
  },
  {
   "cell_type": "code",
   "execution_count": 8,
   "id": "5c8b7350",
   "metadata": {},
   "outputs": [],
   "source": [
    "# lets plot a kde on year_last_moved, average_credit_card_transaction\n",
    "#looks like life_insurance has outlier (use box plot)\n",
    "# detect outliers"
   ]
  },
  {
   "cell_type": "code",
   "execution_count": 9,
   "id": "8ab3eeaf",
   "metadata": {},
   "outputs": [],
   "source": [
    "import matplotlib.pyplot as plt\n",
    "%matplotlib inline"
   ]
  },
  {
   "cell_type": "code",
   "execution_count": 10,
   "id": "d62ab9da",
   "metadata": {},
   "outputs": [
    {
     "data": {
      "text/plain": [
       "<AxesSubplot:ylabel='Density'>"
      ]
     },
     "execution_count": 10,
     "metadata": {},
     "output_type": "execute_result"
    },
    {
     "data": {
      "image/png": "[encoded data removed]",
      "text/plain": [
       "<Figure size 432x288 with 1 Axes>"
      ]
     },
     "metadata": {
      "needs_background": "light"
     },
     "output_type": "display_data"
    }
   ],
   "source": [
    "customer_class['year_last_moved'].plot.kde()"
   ]
  },
  {
   "cell_type": "code",
   "execution_count": 74,
   "id": "ec13de98",
   "metadata": {},
   "outputs": [
    {
     "data": {
      "text/plain": [
       "<AxesSubplot:ylabel='Density'>"
      ]
     },
     "execution_count": 74,
     "metadata": {},
     "output_type": "execute_result"
    },
    {
     "data": {
      "image/png": "[encoded data removed]",
      "text/plain": [
       "<Figure size 432x288 with 1 Axes>"
      ]
     },
     "metadata": {
      "needs_background": "light"
     },
     "output_type": "display_data"
    }
   ],
   "source": [
    "customer_class['Personal_Loan'].plot.kde()"
   ]
  },
  {
   "cell_type": "code",
   "execution_count": 11,
   "id": "4db26533",
   "metadata": {},
   "outputs": [
    {
     "data": {
      "text/plain": [
       "<AxesSubplot:>"
      ]
     },
     "execution_count": 11,
     "metadata": {},
     "output_type": "execute_result"
    },
    {
     "data": {
      "image/png": "[encoded data removed]",
      "text/plain": [
       "<Figure size 432x288 with 1 Axes>"
      ]
     },
     "metadata": {
      "needs_background": "light"
     },
     "output_type": "display_data"
    }
   ],
   "source": [
    "customer_class.boxplot(column=['year_last_moved'])"
   ]
  },
  {
   "cell_type": "code",
   "execution_count": 77,
   "id": "3ebc329c",
   "metadata": {},
   "outputs": [
    {
     "data": {
      "text/plain": [
       "South East          1680\n",
       "North West          1517\n",
       "Unknown              866\n",
       "South West           769\n",
       "West Midlands        658\n",
       "East Midlands        623\n",
       "Scotland             615\n",
       "North                460\n",
       "Wales                437\n",
       "East Anglia          344\n",
       "Northern Ireland     135\n",
       "Isle of Man           15\n",
       "Channel Islands        5\n",
       "Name: region, dtype: int64"
      ]
     },
     "execution_count": 77,
     "metadata": {},
     "output_type": "execute_result"
    }
   ],
   "source": [
    "customer_class['region'].value_counts()"
   ]
  },
  {
   "cell_type": "code",
   "execution_count": 12,
   "id": "dbd92b48",
   "metadata": {},
   "outputs": [
    {
     "data": {
      "text/plain": [
       "['REF_NO',\n",
       " 'year_last_moved',\n",
       " 'Average_Credit_Card_Transaction',\n",
       " 'Balance_Transfer',\n",
       " 'Term_Deposit',\n",
       " 'Life_Insurance',\n",
       " 'Medical_Insurance',\n",
       " 'Average_A/C_Balance',\n",
       " 'Personal_Loan',\n",
       " 'Investment_in_Mutual_Fund',\n",
       " 'Investment_Tax_Saving_Bond',\n",
       " 'Home_Loan',\n",
       " 'Online_Purchase_Amount',\n",
       " 'Investment_in_Commudity',\n",
       " 'Investment_in_Equity',\n",
       " 'Investment_in_Derivative',\n",
       " 'Portfolio_Balance',\n",
       " 'Revenue_Grid']"
      ]
     },
     "execution_count": 12,
     "metadata": {},
     "output_type": "execute_result"
    }
   ],
   "source": [
    "cont_col_names=customer_class._get_numeric_data().columns.values.tolist()\n",
    "cont_col_names"
   ]
  },
  {
   "cell_type": "code",
   "execution_count": 13,
   "id": "461106ef",
   "metadata": {},
   "outputs": [
    {
     "data": {
      "text/plain": [
       "<AxesSubplot:>"
      ]
     },
     "execution_count": 13,
     "metadata": {},
     "output_type": "execute_result"
    },
    {
     "data": {
      "image/png": "[encoded data removed]",
      "text/plain": [
       "<Figure size 1080x720 with 1 Axes>"
      ]
     },
     "metadata": {
      "needs_background": "light"
     },
     "output_type": "display_data"
    }
   ],
   "source": [
    "plt.figure(figsize=(15,10))\n",
    "customer_class.boxplot(column=cont_col_names)"
   ]
  },
  {
   "cell_type": "code",
   "execution_count": 14,
   "id": "7ee61e87",
   "metadata": {},
   "outputs": [
    {
     "data": {
      "text/plain": [
       "['year_last_moved',\n",
       " 'Average_Credit_Card_Transaction',\n",
       " 'Balance_Transfer',\n",
       " 'Term_Deposit',\n",
       " 'Life_Insurance',\n",
       " 'Medical_Insurance',\n",
       " 'Average_A/C_Balance',\n",
       " 'Personal_Loan',\n",
       " 'Investment_in_Mutual_Fund',\n",
       " 'Investment_Tax_Saving_Bond',\n",
       " 'Home_Loan',\n",
       " 'Online_Purchase_Amount',\n",
       " 'Investment_in_Commudity',\n",
       " 'Investment_in_Equity',\n",
       " 'Investment_in_Derivative',\n",
       " 'Portfolio_Balance',\n",
       " 'Revenue_Grid']"
      ]
     },
     "execution_count": 14,
     "metadata": {},
     "output_type": "execute_result"
    }
   ],
   "source": [
    "# lets ignore ref_no\n",
    "cont_col_names.remove('REF_NO')\n",
    "cont_col_names"
   ]
  },
  {
   "cell_type": "code",
   "execution_count": 15,
   "id": "8d06d856",
   "metadata": {},
   "outputs": [
    {
     "data": {
      "text/plain": [
       "(array([ 1,  2,  3,  4,  5,  6,  7,  8,  9, 10, 11, 12, 13, 14, 15, 16, 17]),\n",
       " [Text(1, 0, 'year_last_moved'),\n",
       "  Text(2, 0, 'Average_Credit_Card_Transaction'),\n",
       "  Text(3, 0, 'Balance_Transfer'),\n",
       "  Text(4, 0, 'Term_Deposit'),\n",
       "  Text(5, 0, 'Life_Insurance'),\n",
       "  Text(6, 0, 'Medical_Insurance'),\n",
       "  Text(7, 0, 'Average_A/C_Balance'),\n",
       "  Text(8, 0, 'Personal_Loan'),\n",
       "  Text(9, 0, 'Investment_in_Mutual_Fund'),\n",
       "  Text(10, 0, 'Investment_Tax_Saving_Bond'),\n",
       "  Text(11, 0, 'Home_Loan'),\n",
       "  Text(12, 0, 'Online_Purchase_Amount'),\n",
       "  Text(13, 0, 'Investment_in_Commudity'),\n",
       "  Text(14, 0, 'Investment_in_Equity'),\n",
       "  Text(15, 0, 'Investment_in_Derivative'),\n",
       "  Text(16, 0, 'Portfolio_Balance'),\n",
       "  Text(17, 0, 'Revenue_Grid')])"
      ]
     },
     "execution_count": 15,
     "metadata": {},
     "output_type": "execute_result"
    },
    {
     "data": {
      "image/png": "[encoded data removed]",
      "text/plain": [
       "<Figure size 1080x720 with 1 Axes>"
      ]
     },
     "metadata": {
      "needs_background": "light"
     },
     "output_type": "display_data"
    }
   ],
   "source": [
    "plt.figure(figsize=(15,10))\n",
    "customer_class.boxplot(column=cont_col_names)\n",
    "plt.xticks(rotation=90)"
   ]
  },
  {
   "cell_type": "markdown",
   "id": "41b42497",
   "metadata": {},
   "source": [
    "Above image classfies that following columns has outliers.\n",
    "columns = 'year_last_moved', 'Average_Credit_Card_Transaction', 'Balance_Transfer', 'Term_Deposit', 'Life_Insurance', 'Medical_Insurance', 'Average_A/C_Balance', 'Personal_Loan', 'Investment_in_Mutual_Fund', 'Investment_Tax_Saving_Bond', 'Home_Loan', 'Online_Purchase_Amount', 'Investment_in_Commudity', 'Investment_in_Equity', 'Investment_in_Derivative', 'Portfolio_Balance'"
   ]
  },
  {
   "cell_type": "code",
   "execution_count": 16,
   "id": "768c8366",
   "metadata": {},
   "outputs": [
    {
     "data": {
      "text/plain": [
       "<AxesSubplot:>"
      ]
     },
     "execution_count": 16,
     "metadata": {},
     "output_type": "execute_result"
    },
    {
     "data": {
      "text/plain": [
       "<Figure size 1080x720 with 0 Axes>"
      ]
     },
     "metadata": {},
     "output_type": "display_data"
    },
    {
     "data": {
      "image/png": "[encoded data removed]",
      "text/plain": [
       "<Figure size 432x288 with 1 Axes>"
      ]
     },
     "metadata": {
      "needs_background": "light"
     },
     "output_type": "display_data"
    }
   ],
   "source": [
    "plt.figure(figsize=(15,10))\n",
    "customer_class[cont_col_names].plot.line()"
   ]
  },
  {
   "cell_type": "code",
   "execution_count": 17,
   "id": "f64127b0",
   "metadata": {},
   "outputs": [
    {
     "data": {
      "text/plain": [
       "array([<AxesSubplot:>, <AxesSubplot:>], dtype=object)"
      ]
     },
     "execution_count": 17,
     "metadata": {},
     "output_type": "execute_result"
    },
    {
     "data": {
      "text/plain": [
       "<Figure size 1080x720 with 0 Axes>"
      ]
     },
     "metadata": {},
     "output_type": "display_data"
    },
    {
     "data": {
      "image/png": "[encoded data removed]",
      "text/plain": [
       "<Figure size 432x288 with 2 Axes>"
      ]
     },
     "metadata": {
      "needs_background": "light"
     },
     "output_type": "display_data"
    }
   ],
   "source": [
    "plt.figure(figsize=(15,10))\n",
    "customer_class[['Average_Credit_Card_Transaction','Balance_Transfer']].plot.line(subplots=True)"
   ]
  },
  {
   "cell_type": "code",
   "execution_count": 18,
   "id": "88852703",
   "metadata": {},
   "outputs": [],
   "source": [
    "import seaborn as sns"
   ]
  },
  {
   "cell_type": "code",
   "execution_count": 19,
   "id": "b98b927d",
   "metadata": {},
   "outputs": [
    {
     "data": {
      "text/plain": [
       "<AxesSubplot:>"
      ]
     },
     "execution_count": 19,
     "metadata": {},
     "output_type": "execute_result"
    },
    {
     "data": {
      "image/png": "[encoded data removed]",
      "text/plain": [
       "<Figure size 1080x720 with 2 Axes>"
      ]
     },
     "metadata": {
      "needs_background": "light"
     },
     "output_type": "display_data"
    }
   ],
   "source": [
    "plt.figure(figsize=(15,10))\n",
    "sns.heatmap(customer_class.corr(), annot = True)"
   ]
  },
  {
   "cell_type": "code",
   "execution_count": 20,
   "id": "875da8cd",
   "metadata": {},
   "outputs": [
    {
     "data": {
      "text/plain": [
       "<AxesSubplot:ylabel='Frequency'>"
      ]
     },
     "execution_count": 20,
     "metadata": {},
     "output_type": "execute_result"
    },
    {
     "data": {
      "image/png": "[encoded data removed]",
      "text/plain": [
       "<Figure size 432x288 with 1 Axes>"
      ]
     },
     "metadata": {
      "needs_background": "light"
     },
     "output_type": "display_data"
    }
   ],
   "source": [
    "customer_class['Personal_Loan'].plot.hist()"
   ]
  },
  {
   "cell_type": "code",
   "execution_count": 68,
   "id": "51648436",
   "metadata": {},
   "outputs": [
    {
     "data": {
      "text/plain": [
       "4905.93"
      ]
     },
     "execution_count": 68,
     "metadata": {},
     "output_type": "execute_result"
    }
   ],
   "source": [
    "customer_class['Personal_Loan'].max()"
   ]
  },
  {
   "cell_type": "code",
   "execution_count": 21,
   "id": "8d818d3e",
   "metadata": {},
   "outputs": [
    {
     "data": {
      "text/plain": [
       "NP18 3TJ    2\n",
       "S70 5JE     2\n",
       "S65 3DL     2\n",
       "CM6 2JA     2\n",
       "G64 3PL     2\n",
       "           ..\n",
       "LE9 7DA     1\n",
       "M33 5RN     1\n",
       "NW10 3NU    1\n",
       "SN4 9AF     1\n",
       "TS16 0HG    1\n",
       "Name: post_code, Length: 8050, dtype: int64"
      ]
     },
     "execution_count": 21,
     "metadata": {},
     "output_type": "execute_result"
    }
   ],
   "source": [
    "customer_class['post_code'].value_counts()"
   ]
  },
  {
   "cell_type": "code",
   "execution_count": 22,
   "id": "bd3c9f33",
   "metadata": {},
   "outputs": [
    {
     "data": {
      "text/plain": [
       "8050"
      ]
     },
     "execution_count": 22,
     "metadata": {},
     "output_type": "execute_result"
    }
   ],
   "source": [
    "customer_class['post_code'].nunique()"
   ]
  },
  {
   "cell_type": "code",
   "execution_count": 23,
   "id": "3f5522fa",
   "metadata": {},
   "outputs": [
    {
     "data": {
      "text/plain": [
       "PR5     28\n",
       "TQ12    22\n",
       "WA4     22\n",
       "PR4     21\n",
       "PR8     21\n",
       "        ..\n",
       "TN9      1\n",
       "PA19     1\n",
       "TR16     1\n",
       "OL5      1\n",
       "SS4      1\n",
       "Name: post_area, Length: 1937, dtype: int64"
      ]
     },
     "execution_count": 23,
     "metadata": {},
     "output_type": "execute_result"
    }
   ],
   "source": [
    "customer_class['post_area'].value_counts()"
   ]
  },
  {
   "cell_type": "code",
   "execution_count": 24,
   "id": "03c8956e",
   "metadata": {},
   "outputs": [
    {
     "data": {
      "text/plain": [
       "1937"
      ]
     },
     "execution_count": 24,
     "metadata": {},
     "output_type": "execute_result"
    }
   ],
   "source": [
    "customer_class['post_area'].nunique()"
   ]
  },
  {
   "cell_type": "code",
   "execution_count": 25,
   "id": "4ef6bf10",
   "metadata": {},
   "outputs": [
    {
     "data": {
      "text/plain": [
       "South East          1680\n",
       "North West          1517\n",
       "Unknown              866\n",
       "South West           769\n",
       "West Midlands        658\n",
       "East Midlands        623\n",
       "Scotland             615\n",
       "North                460\n",
       "Wales                437\n",
       "East Anglia          344\n",
       "Northern Ireland     135\n",
       "Isle of Man           15\n",
       "Channel Islands        5\n",
       "Name: region, dtype: int64"
      ]
     },
     "execution_count": 25,
     "metadata": {},
     "output_type": "execute_result"
    }
   ],
   "source": [
    "customer_class['region'].value_counts()"
   ]
  },
  {
   "cell_type": "code",
   "execution_count": 26,
   "id": "23a36461",
   "metadata": {},
   "outputs": [
    {
     "data": {
      "text/plain": [
       "Professional         1949\n",
       "Retired              1799\n",
       "Secretarial/Admin    1435\n",
       "Housewife             984\n",
       "Business Manager      578\n",
       "Manual Worker         451\n",
       "Unknown               449\n",
       "Other                 432\n",
       "Student                47\n",
       "Name: occupation, dtype: int64"
      ]
     },
     "execution_count": 26,
     "metadata": {},
     "output_type": "execute_result"
    }
   ],
   "source": [
    "#occupation\n",
    "customer_class['occupation'].value_counts()"
   ]
  },
  {
   "cell_type": "code",
   "execution_count": 27,
   "id": "15db614d",
   "metadata": {},
   "outputs": [
    {
     "data": {
      "text/plain": [
       "45-50      1098\n",
       "41-45       903\n",
       "36-40       895\n",
       "55-60       865\n",
       "31-35       840\n",
       "51-55       833\n",
       "26-30       735\n",
       "61-65       700\n",
       "65-70       468\n",
       "22-25       356\n",
       "71+         337\n",
       "18-21        50\n",
       "Unknown      44\n",
       "Name: age_band, dtype: int64"
      ]
     },
     "execution_count": 27,
     "metadata": {},
     "output_type": "execute_result"
    }
   ],
   "source": [
    "customer_class['age_band'].value_counts()"
   ]
  },
  {
   "cell_type": "code",
   "execution_count": 28,
   "id": "f7a9f649",
   "metadata": {},
   "outputs": [
    {
     "data": {
      "text/plain": [
       "Index(['REF_NO', 'children', 'age_band', 'status', 'occupation',\n",
       "       'occupation_partner', 'home_status', 'family_income', 'self_employed',\n",
       "       'self_employed_partner', 'year_last_moved', 'TVarea', 'post_code',\n",
       "       'post_area', 'Average_Credit_Card_Transaction', 'Balance_Transfer',\n",
       "       'Term_Deposit', 'Life_Insurance', 'Medical_Insurance',\n",
       "       'Average_A/C_Balance', 'Personal_Loan', 'Investment_in_Mutual_Fund',\n",
       "       'Investment_Tax_Saving_Bond', 'Home_Loan', 'Online_Purchase_Amount',\n",
       "       'gender', 'region', 'Investment_in_Commudity', 'Investment_in_Equity',\n",
       "       'Investment_in_Derivative', 'Portfolio_Balance', 'Revenue_Grid'],\n",
       "      dtype='object')"
      ]
     },
     "execution_count": 28,
     "metadata": {},
     "output_type": "execute_result"
    }
   ],
   "source": [
    "customer_class.columns"
   ]
  },
  {
   "cell_type": "code",
   "execution_count": 29,
   "id": "48cbf4b6",
   "metadata": {},
   "outputs": [
    {
     "data": {
      "text/html": [
       "<div>\n",
       "<style scoped>\n",
       "    .dataframe tbody tr th:only-of-type {\n",
       "        vertical-align: middle;\n",
       "    }\n",
       "\n",
       "    .dataframe tbody tr th {\n",
       "        vertical-align: top;\n",
       "    }\n",
       "\n",
       "    .dataframe thead th {\n",
       "        text-align: right;\n",
       "    }\n",
       "</style>\n",
       "<table border=\"1\" class=\"dataframe\">\n",
       "  <thead>\n",
       "    <tr style=\"text-align: right;\">\n",
       "      <th></th>\n",
       "      <th>REF_NO</th>\n",
       "      <th>children</th>\n",
       "      <th>age_band</th>\n",
       "      <th>status</th>\n",
       "      <th>occupation</th>\n",
       "      <th>occupation_partner</th>\n",
       "      <th>home_status</th>\n",
       "      <th>family_income</th>\n",
       "      <th>self_employed</th>\n",
       "      <th>self_employed_partner</th>\n",
       "      <th>...</th>\n",
       "      <th>Investment_Tax_Saving_Bond</th>\n",
       "      <th>Home_Loan</th>\n",
       "      <th>Online_Purchase_Amount</th>\n",
       "      <th>gender</th>\n",
       "      <th>region</th>\n",
       "      <th>Investment_in_Commudity</th>\n",
       "      <th>Investment_in_Equity</th>\n",
       "      <th>Investment_in_Derivative</th>\n",
       "      <th>Portfolio_Balance</th>\n",
       "      <th>Revenue_Grid</th>\n",
       "    </tr>\n",
       "  </thead>\n",
       "  <tbody>\n",
       "    <tr>\n",
       "      <th>0</th>\n",
       "      <td>5466</td>\n",
       "      <td>2</td>\n",
       "      <td>31-35</td>\n",
       "      <td>Partner</td>\n",
       "      <td>Professional</td>\n",
       "      <td>Professional</td>\n",
       "      <td>Own Home</td>\n",
       "      <td>&gt;=35,000</td>\n",
       "      <td>No</td>\n",
       "      <td>No</td>\n",
       "      <td>...</td>\n",
       "      <td>8.98</td>\n",
       "      <td>55.44</td>\n",
       "      <td>7.68</td>\n",
       "      <td>Female</td>\n",
       "      <td>North West</td>\n",
       "      <td>151.55</td>\n",
       "      <td>81.79</td>\n",
       "      <td>136.02</td>\n",
       "      <td>360.37</td>\n",
       "      <td>2</td>\n",
       "    </tr>\n",
       "    <tr>\n",
       "      <th>1</th>\n",
       "      <td>9091</td>\n",
       "      <td>Zero</td>\n",
       "      <td>45-50</td>\n",
       "      <td>Partner</td>\n",
       "      <td>Secretarial/Admin</td>\n",
       "      <td>Professional</td>\n",
       "      <td>Own Home</td>\n",
       "      <td>&gt;=35,000</td>\n",
       "      <td>No</td>\n",
       "      <td>No</td>\n",
       "      <td>...</td>\n",
       "      <td>0.00</td>\n",
       "      <td>0.00</td>\n",
       "      <td>18.99</td>\n",
       "      <td>Female</td>\n",
       "      <td>North West</td>\n",
       "      <td>44.28</td>\n",
       "      <td>13.91</td>\n",
       "      <td>29.23</td>\n",
       "      <td>89.22</td>\n",
       "      <td>2</td>\n",
       "    </tr>\n",
       "    <tr>\n",
       "      <th>2</th>\n",
       "      <td>9744</td>\n",
       "      <td>1</td>\n",
       "      <td>36-40</td>\n",
       "      <td>Partner</td>\n",
       "      <td>Manual Worker</td>\n",
       "      <td>Manual Worker</td>\n",
       "      <td>Rent Privately</td>\n",
       "      <td>&lt;22,500, &gt;=20,000</td>\n",
       "      <td>Yes</td>\n",
       "      <td>Yes</td>\n",
       "      <td>...</td>\n",
       "      <td>0.00</td>\n",
       "      <td>0.00</td>\n",
       "      <td>0.00</td>\n",
       "      <td>Female</td>\n",
       "      <td>South West</td>\n",
       "      <td>8.58</td>\n",
       "      <td>1.75</td>\n",
       "      <td>4.82</td>\n",
       "      <td>14.50</td>\n",
       "      <td>2</td>\n",
       "    </tr>\n",
       "    <tr>\n",
       "      <th>3</th>\n",
       "      <td>10700</td>\n",
       "      <td>2</td>\n",
       "      <td>31-35</td>\n",
       "      <td>Partner</td>\n",
       "      <td>Manual Worker</td>\n",
       "      <td>Manual Worker</td>\n",
       "      <td>Own Home</td>\n",
       "      <td>&lt;25,000, &gt;=22,500</td>\n",
       "      <td>No</td>\n",
       "      <td>No</td>\n",
       "      <td>...</td>\n",
       "      <td>0.00</td>\n",
       "      <td>0.00</td>\n",
       "      <td>0.00</td>\n",
       "      <td>Female</td>\n",
       "      <td>Scotland</td>\n",
       "      <td>15.00</td>\n",
       "      <td>0.00</td>\n",
       "      <td>5.00</td>\n",
       "      <td>68.98</td>\n",
       "      <td>2</td>\n",
       "    </tr>\n",
       "    <tr>\n",
       "      <th>4</th>\n",
       "      <td>1987</td>\n",
       "      <td>Zero</td>\n",
       "      <td>55-60</td>\n",
       "      <td>Partner</td>\n",
       "      <td>Housewife</td>\n",
       "      <td>Professional</td>\n",
       "      <td>Own Home</td>\n",
       "      <td>&gt;=35,000</td>\n",
       "      <td>No</td>\n",
       "      <td>No</td>\n",
       "      <td>...</td>\n",
       "      <td>0.00</td>\n",
       "      <td>0.00</td>\n",
       "      <td>0.00</td>\n",
       "      <td>Female</td>\n",
       "      <td>Unknown</td>\n",
       "      <td>0.00</td>\n",
       "      <td>1.66</td>\n",
       "      <td>1.66</td>\n",
       "      <td>1.88</td>\n",
       "      <td>2</td>\n",
       "    </tr>\n",
       "  </tbody>\n",
       "</table>\n",
       "<p>5 rows × 32 columns</p>\n",
       "</div>"
      ],
      "text/plain": [
       "   REF_NO children age_band   status         occupation occupation_partner  \\\n",
       "0    5466        2    31-35  Partner       Professional       Professional   \n",
       "1    9091     Zero    45-50  Partner  Secretarial/Admin       Professional   \n",
       "2    9744        1    36-40  Partner      Manual Worker      Manual Worker   \n",
       "3   10700        2    31-35  Partner      Manual Worker      Manual Worker   \n",
       "4    1987     Zero    55-60  Partner          Housewife       Professional   \n",
       "\n",
       "      home_status      family_income self_employed self_employed_partner  ...  \\\n",
       "0        Own Home           >=35,000            No                    No  ...   \n",
       "1        Own Home           >=35,000            No                    No  ...   \n",
       "2  Rent Privately  <22,500, >=20,000           Yes                   Yes  ...   \n",
       "3        Own Home  <25,000, >=22,500            No                    No  ...   \n",
       "4        Own Home           >=35,000            No                    No  ...   \n",
       "\n",
       "   Investment_Tax_Saving_Bond Home_Loan Online_Purchase_Amount  gender  \\\n",
       "0                        8.98     55.44                   7.68  Female   \n",
       "1                        0.00      0.00                  18.99  Female   \n",
       "2                        0.00      0.00                   0.00  Female   \n",
       "3                        0.00      0.00                   0.00  Female   \n",
       "4                        0.00      0.00                   0.00  Female   \n",
       "\n",
       "       region  Investment_in_Commudity  Investment_in_Equity  \\\n",
       "0  North West                   151.55                 81.79   \n",
       "1  North West                    44.28                 13.91   \n",
       "2  South West                     8.58                  1.75   \n",
       "3    Scotland                    15.00                  0.00   \n",
       "4     Unknown                     0.00                  1.66   \n",
       "\n",
       "   Investment_in_Derivative  Portfolio_Balance  Revenue_Grid  \n",
       "0                    136.02             360.37             2  \n",
       "1                     29.23              89.22             2  \n",
       "2                      4.82              14.50             2  \n",
       "3                      5.00              68.98             2  \n",
       "4                      1.66               1.88             2  \n",
       "\n",
       "[5 rows x 32 columns]"
      ]
     },
     "execution_count": 29,
     "metadata": {},
     "output_type": "execute_result"
    }
   ],
   "source": [
    "customer_class.head()"
   ]
  },
  {
   "cell_type": "code",
   "execution_count": 30,
   "id": "73dec488",
   "metadata": {},
   "outputs": [],
   "source": [
    "customer_class['total_investments']=customer_class['Investment_in_Mutual_Fund']+customer_class['Investment_Tax_Saving_Bond']+customer_class['Investment_in_Commudity']+customer_class['Investment_in_Equity']+customer_class['Investment_in_Derivative']+customer_class['Life_Insurance']+customer_class['Medical_Insurance']+customer_class['Portfolio_Balance']"
   ]
  },
  {
   "cell_type": "code",
   "execution_count": 31,
   "id": "b0363473",
   "metadata": {},
   "outputs": [
    {
     "data": {
      "text/plain": [
       "Index(['REF_NO', 'children', 'age_band', 'status', 'occupation',\n",
       "       'occupation_partner', 'home_status', 'family_income', 'self_employed',\n",
       "       'self_employed_partner', 'year_last_moved', 'TVarea', 'post_code',\n",
       "       'post_area', 'Average_Credit_Card_Transaction', 'Balance_Transfer',\n",
       "       'Term_Deposit', 'Life_Insurance', 'Medical_Insurance',\n",
       "       'Average_A/C_Balance', 'Personal_Loan', 'Investment_in_Mutual_Fund',\n",
       "       'Investment_Tax_Saving_Bond', 'Home_Loan', 'Online_Purchase_Amount',\n",
       "       'gender', 'region', 'Investment_in_Commudity', 'Investment_in_Equity',\n",
       "       'Investment_in_Derivative', 'Portfolio_Balance', 'Revenue_Grid',\n",
       "       'total_investments'],\n",
       "      dtype='object')"
      ]
     },
     "execution_count": 31,
     "metadata": {},
     "output_type": "execute_result"
    }
   ],
   "source": [
    "customer_class.columns"
   ]
  },
  {
   "cell_type": "code",
   "execution_count": 32,
   "id": "c0b2a4a0",
   "metadata": {},
   "outputs": [],
   "source": [
    "customer_class.drop(['Investment_in_Mutual_Fund','Investment_Tax_Saving_Bond','Investment_in_Commudity','Investment_in_Equity','Investment_in_Derivative','Life_Insurance','Medical_Insurance','Portfolio_Balance','REF_NO'],axis =1, inplace=True)"
   ]
  },
  {
   "cell_type": "code",
   "execution_count": 33,
   "id": "e6021033",
   "metadata": {},
   "outputs": [
    {
     "data": {
      "text/plain": [
       "Index(['children', 'age_band', 'status', 'occupation', 'occupation_partner',\n",
       "       'home_status', 'family_income', 'self_employed',\n",
       "       'self_employed_partner', 'year_last_moved', 'TVarea', 'post_code',\n",
       "       'post_area', 'Average_Credit_Card_Transaction', 'Balance_Transfer',\n",
       "       'Term_Deposit', 'Average_A/C_Balance', 'Personal_Loan', 'Home_Loan',\n",
       "       'Online_Purchase_Amount', 'gender', 'region', 'Revenue_Grid',\n",
       "       'total_investments'],\n",
       "      dtype='object')"
      ]
     },
     "execution_count": 33,
     "metadata": {},
     "output_type": "execute_result"
    }
   ],
   "source": [
    "customer_class.columns"
   ]
  },
  {
   "cell_type": "code",
   "execution_count": 34,
   "id": "748ead89",
   "metadata": {},
   "outputs": [
    {
     "data": {
      "text/plain": [
       "<AxesSubplot:>"
      ]
     },
     "execution_count": 34,
     "metadata": {},
     "output_type": "execute_result"
    },
    {
     "data": {
      "image/png": "[encoded data removed]",
      "text/plain": [
       "<Figure size 1080x720 with 2 Axes>"
      ]
     },
     "metadata": {
      "needs_background": "light"
     },
     "output_type": "display_data"
    }
   ],
   "source": [
    "plt.figure(figsize=(15,10))\n",
    "sns.heatmap(customer_class.corr(),annot=True)"
   ]
  },
  {
   "cell_type": "code",
   "execution_count": 35,
   "id": "4123c530",
   "metadata": {},
   "outputs": [
    {
     "data": {
      "text/html": [
       "<div>\n",
       "<style scoped>\n",
       "    .dataframe tbody tr th:only-of-type {\n",
       "        vertical-align: middle;\n",
       "    }\n",
       "\n",
       "    .dataframe tbody tr th {\n",
       "        vertical-align: top;\n",
       "    }\n",
       "\n",
       "    .dataframe thead tr th {\n",
       "        text-align: left;\n",
       "    }\n",
       "\n",
       "    .dataframe thead tr:last-of-type th {\n",
       "        text-align: right;\n",
       "    }\n",
       "</style>\n",
       "<table border=\"1\" class=\"dataframe\">\n",
       "  <thead>\n",
       "    <tr>\n",
       "      <th></th>\n",
       "      <th colspan=\"4\" halign=\"left\">post_code</th>\n",
       "    </tr>\n",
       "    <tr>\n",
       "      <th></th>\n",
       "      <th>count</th>\n",
       "      <th>unique</th>\n",
       "      <th>top</th>\n",
       "      <th>freq</th>\n",
       "    </tr>\n",
       "    <tr>\n",
       "      <th>post_area</th>\n",
       "      <th></th>\n",
       "      <th></th>\n",
       "      <th></th>\n",
       "      <th></th>\n",
       "    </tr>\n",
       "  </thead>\n",
       "  <tbody>\n",
       "    <tr>\n",
       "      <th>AB12</th>\n",
       "      <td>4</td>\n",
       "      <td>4</td>\n",
       "      <td>AB12 3PQ</td>\n",
       "      <td>1</td>\n",
       "    </tr>\n",
       "    <tr>\n",
       "      <th>AB13</th>\n",
       "      <td>1</td>\n",
       "      <td>1</td>\n",
       "      <td>AB13 0EE</td>\n",
       "      <td>1</td>\n",
       "    </tr>\n",
       "    <tr>\n",
       "      <th>AB14</th>\n",
       "      <td>4</td>\n",
       "      <td>4</td>\n",
       "      <td>AB14 0XB</td>\n",
       "      <td>1</td>\n",
       "    </tr>\n",
       "    <tr>\n",
       "      <th>AB15</th>\n",
       "      <td>1</td>\n",
       "      <td>1</td>\n",
       "      <td>AB15 8DY</td>\n",
       "      <td>1</td>\n",
       "    </tr>\n",
       "    <tr>\n",
       "      <th>AB21</th>\n",
       "      <td>2</td>\n",
       "      <td>2</td>\n",
       "      <td>AB21 7NQ</td>\n",
       "      <td>1</td>\n",
       "    </tr>\n",
       "    <tr>\n",
       "      <th>...</th>\n",
       "      <td>...</td>\n",
       "      <td>...</td>\n",
       "      <td>...</td>\n",
       "      <td>...</td>\n",
       "    </tr>\n",
       "    <tr>\n",
       "      <th>YO61</th>\n",
       "      <td>6</td>\n",
       "      <td>6</td>\n",
       "      <td>YO61 1SN</td>\n",
       "      <td>1</td>\n",
       "    </tr>\n",
       "    <tr>\n",
       "      <th>YO62</th>\n",
       "      <td>1</td>\n",
       "      <td>1</td>\n",
       "      <td>YO62 6QA</td>\n",
       "      <td>1</td>\n",
       "    </tr>\n",
       "    <tr>\n",
       "      <th>YO7</th>\n",
       "      <td>6</td>\n",
       "      <td>6</td>\n",
       "      <td>YO7 1RR</td>\n",
       "      <td>1</td>\n",
       "    </tr>\n",
       "    <tr>\n",
       "      <th>YO8</th>\n",
       "      <td>9</td>\n",
       "      <td>8</td>\n",
       "      <td>YO8 9JZ</td>\n",
       "      <td>2</td>\n",
       "    </tr>\n",
       "    <tr>\n",
       "      <th>ZE2</th>\n",
       "      <td>4</td>\n",
       "      <td>4</td>\n",
       "      <td>ZE2 9DS</td>\n",
       "      <td>1</td>\n",
       "    </tr>\n",
       "  </tbody>\n",
       "</table>\n",
       "<p>1937 rows × 4 columns</p>\n",
       "</div>"
      ],
      "text/plain": [
       "          post_code                      \n",
       "              count unique       top freq\n",
       "post_area                                \n",
       "AB12              4      4  AB12 3PQ    1\n",
       "AB13              1      1  AB13 0EE    1\n",
       "AB14              4      4  AB14 0XB    1\n",
       "AB15              1      1  AB15 8DY    1\n",
       "AB21              2      2  AB21 7NQ    1\n",
       "...             ...    ...       ...  ...\n",
       "YO61              6      6  YO61 1SN    1\n",
       "YO62              1      1  YO62 6QA    1\n",
       "YO7               6      6   YO7 1RR    1\n",
       "YO8               9      8   YO8 9JZ    2\n",
       "ZE2               4      4   ZE2 9DS    1\n",
       "\n",
       "[1937 rows x 4 columns]"
      ]
     },
     "execution_count": 35,
     "metadata": {},
     "output_type": "execute_result"
    }
   ],
   "source": [
    "customer_class[['post_area','post_code']].groupby('post_area').describe()"
   ]
  },
  {
   "cell_type": "code",
   "execution_count": 36,
   "id": "46713bad",
   "metadata": {},
   "outputs": [
    {
     "data": {
      "text/html": [
       "<div>\n",
       "<style scoped>\n",
       "    .dataframe tbody tr th:only-of-type {\n",
       "        vertical-align: middle;\n",
       "    }\n",
       "\n",
       "    .dataframe tbody tr th {\n",
       "        vertical-align: top;\n",
       "    }\n",
       "\n",
       "    .dataframe thead th {\n",
       "        text-align: right;\n",
       "    }\n",
       "</style>\n",
       "<table border=\"1\" class=\"dataframe\">\n",
       "  <thead>\n",
       "    <tr style=\"text-align: right;\">\n",
       "      <th></th>\n",
       "      <th>children</th>\n",
       "      <th>age_band</th>\n",
       "      <th>status</th>\n",
       "      <th>occupation</th>\n",
       "      <th>occupation_partner</th>\n",
       "      <th>home_status</th>\n",
       "      <th>family_income</th>\n",
       "      <th>self_employed</th>\n",
       "      <th>self_employed_partner</th>\n",
       "      <th>year_last_moved</th>\n",
       "      <th>...</th>\n",
       "      <th>Balance_Transfer</th>\n",
       "      <th>Term_Deposit</th>\n",
       "      <th>Average_A/C_Balance</th>\n",
       "      <th>Personal_Loan</th>\n",
       "      <th>Home_Loan</th>\n",
       "      <th>Online_Purchase_Amount</th>\n",
       "      <th>gender</th>\n",
       "      <th>region</th>\n",
       "      <th>Revenue_Grid</th>\n",
       "      <th>total_investments</th>\n",
       "    </tr>\n",
       "  </thead>\n",
       "  <tbody>\n",
       "    <tr>\n",
       "      <th>0</th>\n",
       "      <td>2</td>\n",
       "      <td>31-35</td>\n",
       "      <td>Partner</td>\n",
       "      <td>Professional</td>\n",
       "      <td>Professional</td>\n",
       "      <td>Own Home</td>\n",
       "      <td>&gt;=35,000</td>\n",
       "      <td>No</td>\n",
       "      <td>No</td>\n",
       "      <td>1981</td>\n",
       "      <td>...</td>\n",
       "      <td>29.99</td>\n",
       "      <td>312.25</td>\n",
       "      <td>108.85</td>\n",
       "      <td>175.43</td>\n",
       "      <td>55.44</td>\n",
       "      <td>7.68</td>\n",
       "      <td>Female</td>\n",
       "      <td>North West</td>\n",
       "      <td>2</td>\n",
       "      <td>1261.57</td>\n",
       "    </tr>\n",
       "    <tr>\n",
       "      <th>1</th>\n",
       "      <td>Zero</td>\n",
       "      <td>45-50</td>\n",
       "      <td>Partner</td>\n",
       "      <td>Secretarial/Admin</td>\n",
       "      <td>Professional</td>\n",
       "      <td>Own Home</td>\n",
       "      <td>&gt;=35,000</td>\n",
       "      <td>No</td>\n",
       "      <td>No</td>\n",
       "      <td>1997</td>\n",
       "      <td>...</td>\n",
       "      <td>74.48</td>\n",
       "      <td>0.00</td>\n",
       "      <td>48.45</td>\n",
       "      <td>15.99</td>\n",
       "      <td>0.00</td>\n",
       "      <td>18.99</td>\n",
       "      <td>Female</td>\n",
       "      <td>North West</td>\n",
       "      <td>2</td>\n",
       "      <td>287.59</td>\n",
       "    </tr>\n",
       "    <tr>\n",
       "      <th>2</th>\n",
       "      <td>1</td>\n",
       "      <td>36-40</td>\n",
       "      <td>Partner</td>\n",
       "      <td>Manual Worker</td>\n",
       "      <td>Manual Worker</td>\n",
       "      <td>Rent Privately</td>\n",
       "      <td>&lt;22,500, &gt;=20,000</td>\n",
       "      <td>Yes</td>\n",
       "      <td>Yes</td>\n",
       "      <td>1996</td>\n",
       "      <td>...</td>\n",
       "      <td>24.46</td>\n",
       "      <td>0.00</td>\n",
       "      <td>0.00</td>\n",
       "      <td>0.02</td>\n",
       "      <td>0.00</td>\n",
       "      <td>0.00</td>\n",
       "      <td>Female</td>\n",
       "      <td>South West</td>\n",
       "      <td>2</td>\n",
       "      <td>58.55</td>\n",
       "    </tr>\n",
       "    <tr>\n",
       "      <th>3</th>\n",
       "      <td>2</td>\n",
       "      <td>31-35</td>\n",
       "      <td>Partner</td>\n",
       "      <td>Manual Worker</td>\n",
       "      <td>Manual Worker</td>\n",
       "      <td>Own Home</td>\n",
       "      <td>&lt;25,000, &gt;=22,500</td>\n",
       "      <td>No</td>\n",
       "      <td>No</td>\n",
       "      <td>1990</td>\n",
       "      <td>...</td>\n",
       "      <td>0.00</td>\n",
       "      <td>0.00</td>\n",
       "      <td>0.00</td>\n",
       "      <td>0.00</td>\n",
       "      <td>0.00</td>\n",
       "      <td>0.00</td>\n",
       "      <td>Female</td>\n",
       "      <td>Scotland</td>\n",
       "      <td>2</td>\n",
       "      <td>118.97</td>\n",
       "    </tr>\n",
       "    <tr>\n",
       "      <th>4</th>\n",
       "      <td>Zero</td>\n",
       "      <td>55-60</td>\n",
       "      <td>Partner</td>\n",
       "      <td>Housewife</td>\n",
       "      <td>Professional</td>\n",
       "      <td>Own Home</td>\n",
       "      <td>&gt;=35,000</td>\n",
       "      <td>No</td>\n",
       "      <td>No</td>\n",
       "      <td>1989</td>\n",
       "      <td>...</td>\n",
       "      <td>0.00</td>\n",
       "      <td>0.00</td>\n",
       "      <td>0.00</td>\n",
       "      <td>0.00</td>\n",
       "      <td>0.00</td>\n",
       "      <td>0.00</td>\n",
       "      <td>Female</td>\n",
       "      <td>Unknown</td>\n",
       "      <td>2</td>\n",
       "      <td>15.18</td>\n",
       "    </tr>\n",
       "  </tbody>\n",
       "</table>\n",
       "<p>5 rows × 24 columns</p>\n",
       "</div>"
      ],
      "text/plain": [
       "  children age_band   status         occupation occupation_partner  \\\n",
       "0        2    31-35  Partner       Professional       Professional   \n",
       "1     Zero    45-50  Partner  Secretarial/Admin       Professional   \n",
       "2        1    36-40  Partner      Manual Worker      Manual Worker   \n",
       "3        2    31-35  Partner      Manual Worker      Manual Worker   \n",
       "4     Zero    55-60  Partner          Housewife       Professional   \n",
       "\n",
       "      home_status      family_income self_employed self_employed_partner  \\\n",
       "0        Own Home           >=35,000            No                    No   \n",
       "1        Own Home           >=35,000            No                    No   \n",
       "2  Rent Privately  <22,500, >=20,000           Yes                   Yes   \n",
       "3        Own Home  <25,000, >=22,500            No                    No   \n",
       "4        Own Home           >=35,000            No                    No   \n",
       "\n",
       "   year_last_moved  ... Balance_Transfer Term_Deposit Average_A/C_Balance  \\\n",
       "0             1981  ...            29.99       312.25              108.85   \n",
       "1             1997  ...            74.48         0.00               48.45   \n",
       "2             1996  ...            24.46         0.00                0.00   \n",
       "3             1990  ...             0.00         0.00                0.00   \n",
       "4             1989  ...             0.00         0.00                0.00   \n",
       "\n",
       "   Personal_Loan  Home_Loan  Online_Purchase_Amount  gender      region  \\\n",
       "0         175.43      55.44                    7.68  Female  North West   \n",
       "1          15.99       0.00                   18.99  Female  North West   \n",
       "2           0.02       0.00                    0.00  Female  South West   \n",
       "3           0.00       0.00                    0.00  Female    Scotland   \n",
       "4           0.00       0.00                    0.00  Female     Unknown   \n",
       "\n",
       "   Revenue_Grid  total_investments  \n",
       "0             2            1261.57  \n",
       "1             2             287.59  \n",
       "2             2              58.55  \n",
       "3             2             118.97  \n",
       "4             2              15.18  \n",
       "\n",
       "[5 rows x 24 columns]"
      ]
     },
     "execution_count": 36,
     "metadata": {},
     "output_type": "execute_result"
    }
   ],
   "source": [
    "customer_class.head()"
   ]
  },
  {
   "cell_type": "code",
   "execution_count": 37,
   "id": "35a408a4",
   "metadata": {},
   "outputs": [
    {
     "name": "stdout",
     "output_type": "stream",
     "text": [
      "<class 'pandas.core.frame.DataFrame'>\n",
      "RangeIndex: 8124 entries, 0 to 8123\n",
      "Data columns (total 24 columns):\n",
      " #   Column                           Non-Null Count  Dtype  \n",
      "---  ------                           --------------  -----  \n",
      " 0   children                         8124 non-null   object \n",
      " 1   age_band                         8124 non-null   object \n",
      " 2   status                           8124 non-null   object \n",
      " 3   occupation                       8124 non-null   object \n",
      " 4   occupation_partner               8124 non-null   object \n",
      " 5   home_status                      8124 non-null   object \n",
      " 6   family_income                    8124 non-null   object \n",
      " 7   self_employed                    8124 non-null   object \n",
      " 8   self_employed_partner            8124 non-null   object \n",
      " 9   year_last_moved                  8124 non-null   int64  \n",
      " 10  TVarea                           8124 non-null   object \n",
      " 11  post_code                        8124 non-null   object \n",
      " 12  post_area                        8124 non-null   object \n",
      " 13  Average_Credit_Card_Transaction  8124 non-null   float64\n",
      " 14  Balance_Transfer                 8124 non-null   float64\n",
      " 15  Term_Deposit                     8124 non-null   float64\n",
      " 16  Average_A/C_Balance              8124 non-null   float64\n",
      " 17  Personal_Loan                    8124 non-null   float64\n",
      " 18  Home_Loan                        8124 non-null   float64\n",
      " 19  Online_Purchase_Amount           8124 non-null   float64\n",
      " 20  gender                           8124 non-null   object \n",
      " 21  region                           8124 non-null   object \n",
      " 22  Revenue_Grid                     8124 non-null   int64  \n",
      " 23  total_investments                8124 non-null   float64\n",
      "dtypes: float64(8), int64(2), object(14)\n",
      "memory usage: 1.5+ MB\n"
     ]
    }
   ],
   "source": [
    "customer_class.info() "
   ]
  },
  {
   "cell_type": "code",
   "execution_count": 38,
   "id": "a27e8ccc",
   "metadata": {},
   "outputs": [],
   "source": [
    "customer_cont = customer_class[['year_last_moved','Average_Credit_Card_Transaction','Balance_Transfer','Term_Deposit','Average_A/C_Balance','Personal_Loan','Home_Loan','Online_Purchase_Amount','Revenue_Grid','total_investments']]\n",
    "customer_cat = customer_class.drop(['year_last_moved','Average_Credit_Card_Transaction','Balance_Transfer','Term_Deposit','Average_A/C_Balance','Personal_Loan','Home_Loan','Online_Purchase_Amount','Revenue_Grid','total_investments'], axis = 1)"
   ]
  },
  {
   "cell_type": "code",
   "execution_count": 39,
   "id": "df2f7a06",
   "metadata": {},
   "outputs": [],
   "source": [
    "from sklearn.preprocessing import LabelEncoder\n",
    "le = LabelEncoder()\n",
    "customer_cat = customer_cat.apply(le.fit_transform)"
   ]
  },
  {
   "cell_type": "code",
   "execution_count": 40,
   "id": "900e45d6",
   "metadata": {},
   "outputs": [
    {
     "data": {
      "text/html": [
       "<div>\n",
       "<style scoped>\n",
       "    .dataframe tbody tr th:only-of-type {\n",
       "        vertical-align: middle;\n",
       "    }\n",
       "\n",
       "    .dataframe tbody tr th {\n",
       "        vertical-align: top;\n",
       "    }\n",
       "\n",
       "    .dataframe thead th {\n",
       "        text-align: right;\n",
       "    }\n",
       "</style>\n",
       "<table border=\"1\" class=\"dataframe\">\n",
       "  <thead>\n",
       "    <tr style=\"text-align: right;\">\n",
       "      <th></th>\n",
       "      <th>children</th>\n",
       "      <th>age_band</th>\n",
       "      <th>status</th>\n",
       "      <th>occupation</th>\n",
       "      <th>occupation_partner</th>\n",
       "      <th>home_status</th>\n",
       "      <th>family_income</th>\n",
       "      <th>self_employed</th>\n",
       "      <th>self_employed_partner</th>\n",
       "      <th>TVarea</th>\n",
       "      <th>...</th>\n",
       "      <th>year_last_moved</th>\n",
       "      <th>Average_Credit_Card_Transaction</th>\n",
       "      <th>Balance_Transfer</th>\n",
       "      <th>Term_Deposit</th>\n",
       "      <th>Average_A/C_Balance</th>\n",
       "      <th>Personal_Loan</th>\n",
       "      <th>Home_Loan</th>\n",
       "      <th>Online_Purchase_Amount</th>\n",
       "      <th>Revenue_Grid</th>\n",
       "      <th>total_investments</th>\n",
       "    </tr>\n",
       "  </thead>\n",
       "  <tbody>\n",
       "    <tr>\n",
       "      <th>0</th>\n",
       "      <td>1</td>\n",
       "      <td>3</td>\n",
       "      <td>1</td>\n",
       "      <td>4</td>\n",
       "      <td>4</td>\n",
       "      <td>1</td>\n",
       "      <td>11</td>\n",
       "      <td>0</td>\n",
       "      <td>0</td>\n",
       "      <td>7</td>\n",
       "      <td>...</td>\n",
       "      <td>1981</td>\n",
       "      <td>26.98</td>\n",
       "      <td>29.99</td>\n",
       "      <td>312.25</td>\n",
       "      <td>108.85</td>\n",
       "      <td>175.43</td>\n",
       "      <td>55.44</td>\n",
       "      <td>7.68</td>\n",
       "      <td>2</td>\n",
       "      <td>1261.57</td>\n",
       "    </tr>\n",
       "    <tr>\n",
       "      <th>1</th>\n",
       "      <td>4</td>\n",
       "      <td>6</td>\n",
       "      <td>1</td>\n",
       "      <td>6</td>\n",
       "      <td>4</td>\n",
       "      <td>1</td>\n",
       "      <td>11</td>\n",
       "      <td>0</td>\n",
       "      <td>0</td>\n",
       "      <td>7</td>\n",
       "      <td>...</td>\n",
       "      <td>1997</td>\n",
       "      <td>35.98</td>\n",
       "      <td>74.48</td>\n",
       "      <td>0.00</td>\n",
       "      <td>48.45</td>\n",
       "      <td>15.99</td>\n",
       "      <td>0.00</td>\n",
       "      <td>18.99</td>\n",
       "      <td>2</td>\n",
       "      <td>287.59</td>\n",
       "    </tr>\n",
       "    <tr>\n",
       "      <th>2</th>\n",
       "      <td>0</td>\n",
       "      <td>4</td>\n",
       "      <td>1</td>\n",
       "      <td>2</td>\n",
       "      <td>2</td>\n",
       "      <td>2</td>\n",
       "      <td>7</td>\n",
       "      <td>1</td>\n",
       "      <td>1</td>\n",
       "      <td>6</td>\n",
       "      <td>...</td>\n",
       "      <td>1996</td>\n",
       "      <td>0.00</td>\n",
       "      <td>24.46</td>\n",
       "      <td>0.00</td>\n",
       "      <td>0.00</td>\n",
       "      <td>0.02</td>\n",
       "      <td>0.00</td>\n",
       "      <td>0.00</td>\n",
       "      <td>2</td>\n",
       "      <td>58.55</td>\n",
       "    </tr>\n",
       "    <tr>\n",
       "      <th>3</th>\n",
       "      <td>1</td>\n",
       "      <td>3</td>\n",
       "      <td>1</td>\n",
       "      <td>2</td>\n",
       "      <td>2</td>\n",
       "      <td>1</td>\n",
       "      <td>8</td>\n",
       "      <td>0</td>\n",
       "      <td>0</td>\n",
       "      <td>8</td>\n",
       "      <td>...</td>\n",
       "      <td>1990</td>\n",
       "      <td>44.99</td>\n",
       "      <td>0.00</td>\n",
       "      <td>0.00</td>\n",
       "      <td>0.00</td>\n",
       "      <td>0.00</td>\n",
       "      <td>0.00</td>\n",
       "      <td>0.00</td>\n",
       "      <td>2</td>\n",
       "      <td>118.97</td>\n",
       "    </tr>\n",
       "    <tr>\n",
       "      <th>4</th>\n",
       "      <td>4</td>\n",
       "      <td>8</td>\n",
       "      <td>1</td>\n",
       "      <td>1</td>\n",
       "      <td>4</td>\n",
       "      <td>1</td>\n",
       "      <td>11</td>\n",
       "      <td>0</td>\n",
       "      <td>0</td>\n",
       "      <td>13</td>\n",
       "      <td>...</td>\n",
       "      <td>1989</td>\n",
       "      <td>0.00</td>\n",
       "      <td>0.00</td>\n",
       "      <td>0.00</td>\n",
       "      <td>0.00</td>\n",
       "      <td>0.00</td>\n",
       "      <td>0.00</td>\n",
       "      <td>0.00</td>\n",
       "      <td>2</td>\n",
       "      <td>15.18</td>\n",
       "    </tr>\n",
       "  </tbody>\n",
       "</table>\n",
       "<p>5 rows × 24 columns</p>\n",
       "</div>"
      ],
      "text/plain": [
       "   children  age_band  status  occupation  occupation_partner  home_status  \\\n",
       "0         1         3       1           4                   4            1   \n",
       "1         4         6       1           6                   4            1   \n",
       "2         0         4       1           2                   2            2   \n",
       "3         1         3       1           2                   2            1   \n",
       "4         4         8       1           1                   4            1   \n",
       "\n",
       "   family_income  self_employed  self_employed_partner  TVarea  ...  \\\n",
       "0             11              0                      0       7  ...   \n",
       "1             11              0                      0       7  ...   \n",
       "2              7              1                      1       6  ...   \n",
       "3              8              0                      0       8  ...   \n",
       "4             11              0                      0      13  ...   \n",
       "\n",
       "   year_last_moved  Average_Credit_Card_Transaction  Balance_Transfer  \\\n",
       "0             1981                            26.98             29.99   \n",
       "1             1997                            35.98             74.48   \n",
       "2             1996                             0.00             24.46   \n",
       "3             1990                            44.99              0.00   \n",
       "4             1989                             0.00              0.00   \n",
       "\n",
       "   Term_Deposit  Average_A/C_Balance  Personal_Loan  Home_Loan  \\\n",
       "0        312.25               108.85         175.43      55.44   \n",
       "1          0.00                48.45          15.99       0.00   \n",
       "2          0.00                 0.00           0.02       0.00   \n",
       "3          0.00                 0.00           0.00       0.00   \n",
       "4          0.00                 0.00           0.00       0.00   \n",
       "\n",
       "   Online_Purchase_Amount  Revenue_Grid  total_investments  \n",
       "0                    7.68             2            1261.57  \n",
       "1                   18.99             2             287.59  \n",
       "2                    0.00             2              58.55  \n",
       "3                    0.00             2             118.97  \n",
       "4                    0.00             2              15.18  \n",
       "\n",
       "[5 rows x 24 columns]"
      ]
     },
     "execution_count": 40,
     "metadata": {},
     "output_type": "execute_result"
    }
   ],
   "source": [
    "customer_final = pd.concat([customer_cat,customer_cont], axis = 1)\n",
    "customer_final.head()"
   ]
  },
  {
   "cell_type": "code",
   "execution_count": 41,
   "id": "db4b2cb4",
   "metadata": {},
   "outputs": [
    {
     "data": {
      "text/plain": [
       "(8124, 24)"
      ]
     },
     "execution_count": 41,
     "metadata": {},
     "output_type": "execute_result"
    }
   ],
   "source": [
    "customer_final.shape"
   ]
  },
  {
   "cell_type": "code",
   "execution_count": 42,
   "id": "6363fe68",
   "metadata": {},
   "outputs": [
    {
     "data": {
      "text/plain": [
       "children                           0\n",
       "age_band                           0\n",
       "status                             0\n",
       "occupation                         0\n",
       "occupation_partner                 0\n",
       "home_status                        0\n",
       "family_income                      0\n",
       "self_employed                      0\n",
       "self_employed_partner              0\n",
       "TVarea                             0\n",
       "post_code                          0\n",
       "post_area                          0\n",
       "gender                             0\n",
       "region                             0\n",
       "year_last_moved                    0\n",
       "Average_Credit_Card_Transaction    0\n",
       "Balance_Transfer                   0\n",
       "Term_Deposit                       0\n",
       "Average_A/C_Balance                0\n",
       "Personal_Loan                      0\n",
       "Home_Loan                          0\n",
       "Online_Purchase_Amount             0\n",
       "Revenue_Grid                       0\n",
       "total_investments                  0\n",
       "dtype: int64"
      ]
     },
     "execution_count": 42,
     "metadata": {},
     "output_type": "execute_result"
    }
   ],
   "source": [
    "customer_final.isnull().sum()"
   ]
  },
  {
   "cell_type": "code",
   "execution_count": 43,
   "id": "d7539c1f",
   "metadata": {},
   "outputs": [],
   "source": [
    "X = customer_final.drop('Revenue_Grid',axis=1)\n",
    "y = customer_final['Revenue_Grid']"
   ]
  },
  {
   "cell_type": "code",
   "execution_count": 44,
   "id": "213ff712",
   "metadata": {},
   "outputs": [],
   "source": [
    "from sklearn.model_selection import train_test_split\n",
    "X_train, X_test, y_train, y_test = train_test_split(X,y,test_size=0.2,random_state=1)"
   ]
  },
  {
   "cell_type": "code",
   "execution_count": 45,
   "id": "8f0ed964",
   "metadata": {},
   "outputs": [
    {
     "data": {
      "text/plain": [
       "((6499, 23), (6499,))"
      ]
     },
     "execution_count": 45,
     "metadata": {},
     "output_type": "execute_result"
    }
   ],
   "source": [
    "X_train.shape, y_train.shape"
   ]
  },
  {
   "cell_type": "code",
   "execution_count": 46,
   "id": "277b4ee3",
   "metadata": {},
   "outputs": [],
   "source": [
    "from sklearn.linear_model import LogisticRegression"
   ]
  },
  {
   "cell_type": "code",
   "execution_count": 47,
   "id": "afb8c14d",
   "metadata": {},
   "outputs": [
    {
     "name": "stderr",
     "output_type": "stream",
     "text": [
      "C:\\Users\\olive\\anaconda3\\lib\\site-packages\\sklearn\\linear_model\\_logistic.py:814: ConvergenceWarning: lbfgs failed to converge (status=1):\n",
      "STOP: TOTAL NO. of ITERATIONS REACHED LIMIT.\n",
      "\n",
      "Increase the number of iterations (max_iter) or scale the data as shown in:\n",
      "    https://scikit-learn.org/stable/modules/preprocessing.html\n",
      "Please also refer to the documentation for alternative solver options:\n",
      "    https://scikit-learn.org/stable/modules/linear_model.html#logistic-regression\n",
      "  n_iter_i = _check_optimize_result(\n"
     ]
    },
    {
     "data": {
      "text/plain": [
       "LogisticRegression()"
      ]
     },
     "execution_count": 47,
     "metadata": {},
     "output_type": "execute_result"
    }
   ],
   "source": [
    "logreg = LogisticRegression()\n",
    "logreg.fit(X_train,y_train)"
   ]
  },
  {
   "cell_type": "code",
   "execution_count": 48,
   "id": "5b9f97f2",
   "metadata": {},
   "outputs": [
    {
     "data": {
      "text/plain": [
       "array([[ 0.00617571,  0.01254868,  0.0040101 ,  0.00986764,  0.00798272,\n",
       "         0.00263976,  0.00323799, -0.00025006, -0.00071784,  0.00631533,\n",
       "        -0.00317938,  0.01363944, -0.00033075,  0.00724928,  0.00138849,\n",
       "        -0.01360678,  0.00465317,  0.02112483,  0.01207144,  0.02731261,\n",
       "         0.04185059, -0.04123107, -0.00419393]])"
      ]
     },
     "execution_count": 48,
     "metadata": {},
     "output_type": "execute_result"
    }
   ],
   "source": [
    "logreg.coef_"
   ]
  },
  {
   "cell_type": "code",
   "execution_count": 49,
   "id": "70c1b278",
   "metadata": {},
   "outputs": [],
   "source": [
    "y_train_pred =logreg.predict(X_train)\n",
    "y_test_pred = logreg.predict(X_test)"
   ]
  },
  {
   "cell_type": "code",
   "execution_count": 50,
   "id": "a5dc70ef",
   "metadata": {},
   "outputs": [
    {
     "data": {
      "text/plain": [
       "(0.9375288505923989, 0.9292307692307692)"
      ]
     },
     "execution_count": 50,
     "metadata": {},
     "output_type": "execute_result"
    }
   ],
   "source": [
    "from sklearn.metrics import accuracy_score\n",
    "accuracy_score(y_train, y_train_pred), accuracy_score(y_test,y_test_pred)"
   ]
  },
  {
   "cell_type": "code",
   "execution_count": 51,
   "id": "bfd39575",
   "metadata": {},
   "outputs": [
    {
     "data": {
      "text/plain": [
       "(0.6254612546125461, 0.6229508196721312)"
      ]
     },
     "execution_count": 51,
     "metadata": {},
     "output_type": "execute_result"
    }
   ],
   "source": [
    "from sklearn.metrics import f1_score\n",
    "f1_score(y_train, y_train_pred), f1_score(y_test,y_test_pred)"
   ]
  },
  {
   "cell_type": "code",
   "execution_count": 52,
   "id": "7b5a6f22",
   "metadata": {},
   "outputs": [],
   "source": [
    "customer_class_test = pd.read_csv('existing_base_test.csv')"
   ]
  },
  {
   "cell_type": "code",
   "execution_count": 53,
   "id": "e7de1454",
   "metadata": {},
   "outputs": [
    {
     "data": {
      "text/plain": [
       "(2031, 31)"
      ]
     },
     "execution_count": 53,
     "metadata": {},
     "output_type": "execute_result"
    }
   ],
   "source": [
    "customer_class_test.shape"
   ]
  },
  {
   "cell_type": "code",
   "execution_count": 54,
   "id": "8df5fafe",
   "metadata": {},
   "outputs": [
    {
     "data": {
      "text/html": [
       "<div>\n",
       "<style scoped>\n",
       "    .dataframe tbody tr th:only-of-type {\n",
       "        vertical-align: middle;\n",
       "    }\n",
       "\n",
       "    .dataframe tbody tr th {\n",
       "        vertical-align: top;\n",
       "    }\n",
       "\n",
       "    .dataframe thead th {\n",
       "        text-align: right;\n",
       "    }\n",
       "</style>\n",
       "<table border=\"1\" class=\"dataframe\">\n",
       "  <thead>\n",
       "    <tr style=\"text-align: right;\">\n",
       "      <th></th>\n",
       "      <th>REF_NO</th>\n",
       "      <th>children</th>\n",
       "      <th>age_band</th>\n",
       "      <th>status</th>\n",
       "      <th>occupation</th>\n",
       "      <th>occupation_partner</th>\n",
       "      <th>home_status</th>\n",
       "      <th>family_income</th>\n",
       "      <th>self_employed</th>\n",
       "      <th>self_employed_partner</th>\n",
       "      <th>...</th>\n",
       "      <th>Investment_in_Mutual_Fund</th>\n",
       "      <th>Investment_Tax_Saving_Bond</th>\n",
       "      <th>Home_Loan</th>\n",
       "      <th>Online_Purchase_Amount</th>\n",
       "      <th>gender</th>\n",
       "      <th>region</th>\n",
       "      <th>Investment_in_Commudity</th>\n",
       "      <th>Investment_in_Equity</th>\n",
       "      <th>Investment_in_Derivative</th>\n",
       "      <th>Portfolio_Balance</th>\n",
       "    </tr>\n",
       "  </thead>\n",
       "  <tbody>\n",
       "    <tr>\n",
       "      <th>0</th>\n",
       "      <td>697</td>\n",
       "      <td>Zero</td>\n",
       "      <td>71+</td>\n",
       "      <td>Partner</td>\n",
       "      <td>Retired</td>\n",
       "      <td>Housewife</td>\n",
       "      <td>Own Home</td>\n",
       "      <td>&lt;12,500, &gt;=10,000</td>\n",
       "      <td>No</td>\n",
       "      <td>No</td>\n",
       "      <td>...</td>\n",
       "      <td>45.97</td>\n",
       "      <td>0.00</td>\n",
       "      <td>0.00</td>\n",
       "      <td>0.00</td>\n",
       "      <td>Male</td>\n",
       "      <td>South West</td>\n",
       "      <td>40.48</td>\n",
       "      <td>15.07</td>\n",
       "      <td>28.40</td>\n",
       "      <td>83.05</td>\n",
       "    </tr>\n",
       "    <tr>\n",
       "      <th>1</th>\n",
       "      <td>7897</td>\n",
       "      <td>Zero</td>\n",
       "      <td>31-35</td>\n",
       "      <td>Partner</td>\n",
       "      <td>Unknown</td>\n",
       "      <td>Business Manager</td>\n",
       "      <td>Own Home</td>\n",
       "      <td>&gt;=35,000</td>\n",
       "      <td>No</td>\n",
       "      <td>No</td>\n",
       "      <td>...</td>\n",
       "      <td>133.88</td>\n",
       "      <td>27.45</td>\n",
       "      <td>13.47</td>\n",
       "      <td>57.46</td>\n",
       "      <td>Male</td>\n",
       "      <td>South East</td>\n",
       "      <td>27.07</td>\n",
       "      <td>72.01</td>\n",
       "      <td>82.74</td>\n",
       "      <td>235.29</td>\n",
       "    </tr>\n",
       "    <tr>\n",
       "      <th>2</th>\n",
       "      <td>4729</td>\n",
       "      <td>Zero</td>\n",
       "      <td>71+</td>\n",
       "      <td>Partner</td>\n",
       "      <td>Housewife</td>\n",
       "      <td>Retired</td>\n",
       "      <td>Own Home</td>\n",
       "      <td>&lt;15,000, &gt;=12,500</td>\n",
       "      <td>No</td>\n",
       "      <td>No</td>\n",
       "      <td>...</td>\n",
       "      <td>107.88</td>\n",
       "      <td>0.00</td>\n",
       "      <td>0.00</td>\n",
       "      <td>0.00</td>\n",
       "      <td>Female</td>\n",
       "      <td>South West</td>\n",
       "      <td>44.39</td>\n",
       "      <td>32.62</td>\n",
       "      <td>43.86</td>\n",
       "      <td>98.38</td>\n",
       "    </tr>\n",
       "    <tr>\n",
       "      <th>3</th>\n",
       "      <td>6914</td>\n",
       "      <td>1</td>\n",
       "      <td>22-25</td>\n",
       "      <td>Partner</td>\n",
       "      <td>Other</td>\n",
       "      <td>Other</td>\n",
       "      <td>Own Home</td>\n",
       "      <td>&lt;17,500, &gt;=15,000</td>\n",
       "      <td>No</td>\n",
       "      <td>No</td>\n",
       "      <td>...</td>\n",
       "      <td>44.96</td>\n",
       "      <td>0.00</td>\n",
       "      <td>0.00</td>\n",
       "      <td>0.00</td>\n",
       "      <td>Female</td>\n",
       "      <td>Scotland</td>\n",
       "      <td>21.59</td>\n",
       "      <td>24.57</td>\n",
       "      <td>29.23</td>\n",
       "      <td>86.32</td>\n",
       "    </tr>\n",
       "    <tr>\n",
       "      <th>4</th>\n",
       "      <td>2795</td>\n",
       "      <td>Zero</td>\n",
       "      <td>65-70</td>\n",
       "      <td>Widowed</td>\n",
       "      <td>Retired</td>\n",
       "      <td>Unknown</td>\n",
       "      <td>Own Home</td>\n",
       "      <td>&lt; 4,000</td>\n",
       "      <td>No</td>\n",
       "      <td>No</td>\n",
       "      <td>...</td>\n",
       "      <td>33.96</td>\n",
       "      <td>6.99</td>\n",
       "      <td>17.93</td>\n",
       "      <td>5.45</td>\n",
       "      <td>Female</td>\n",
       "      <td>South East</td>\n",
       "      <td>53.66</td>\n",
       "      <td>16.22</td>\n",
       "      <td>32.89</td>\n",
       "      <td>102.99</td>\n",
       "    </tr>\n",
       "  </tbody>\n",
       "</table>\n",
       "<p>5 rows × 31 columns</p>\n",
       "</div>"
      ],
      "text/plain": [
       "   REF_NO children age_band   status occupation occupation_partner  \\\n",
       "0     697     Zero      71+  Partner    Retired          Housewife   \n",
       "1    7897     Zero    31-35  Partner    Unknown   Business Manager   \n",
       "2    4729     Zero      71+  Partner  Housewife            Retired   \n",
       "3    6914        1    22-25  Partner      Other              Other   \n",
       "4    2795     Zero    65-70  Widowed    Retired            Unknown   \n",
       "\n",
       "  home_status      family_income self_employed self_employed_partner  ...  \\\n",
       "0    Own Home  <12,500, >=10,000            No                    No  ...   \n",
       "1    Own Home           >=35,000            No                    No  ...   \n",
       "2    Own Home  <15,000, >=12,500            No                    No  ...   \n",
       "3    Own Home  <17,500, >=15,000            No                    No  ...   \n",
       "4    Own Home            < 4,000            No                    No  ...   \n",
       "\n",
       "   Investment_in_Mutual_Fund Investment_Tax_Saving_Bond Home_Loan  \\\n",
       "0                      45.97                       0.00      0.00   \n",
       "1                     133.88                      27.45     13.47   \n",
       "2                     107.88                       0.00      0.00   \n",
       "3                      44.96                       0.00      0.00   \n",
       "4                      33.96                       6.99     17.93   \n",
       "\n",
       "  Online_Purchase_Amount  gender      region  Investment_in_Commudity  \\\n",
       "0                   0.00    Male  South West                    40.48   \n",
       "1                  57.46    Male  South East                    27.07   \n",
       "2                   0.00  Female  South West                    44.39   \n",
       "3                   0.00  Female    Scotland                    21.59   \n",
       "4                   5.45  Female  South East                    53.66   \n",
       "\n",
       "   Investment_in_Equity  Investment_in_Derivative  Portfolio_Balance  \n",
       "0                 15.07                     28.40              83.05  \n",
       "1                 72.01                     82.74             235.29  \n",
       "2                 32.62                     43.86              98.38  \n",
       "3                 24.57                     29.23              86.32  \n",
       "4                 16.22                     32.89             102.99  \n",
       "\n",
       "[5 rows x 31 columns]"
      ]
     },
     "execution_count": 54,
     "metadata": {},
     "output_type": "execute_result"
    }
   ],
   "source": [
    "customer_class_test.head()"
   ]
  },
  {
   "cell_type": "code",
   "execution_count": 55,
   "id": "4408b3ce",
   "metadata": {},
   "outputs": [],
   "source": [
    "customer_class_test['total_investments']=customer_class_test['Investment_in_Mutual_Fund']+customer_class_test['Investment_Tax_Saving_Bond']+customer_class_test['Investment_in_Commudity']+customer_class_test['Investment_in_Equity']+customer_class_test['Investment_in_Derivative']+customer_class_test['Life_Insurance']+customer_class_test['Medical_Insurance']+customer_class_test['Portfolio_Balance']"
   ]
  },
  {
   "cell_type": "code",
   "execution_count": 56,
   "id": "42059e44",
   "metadata": {},
   "outputs": [],
   "source": [
    "customer_class_test.drop(['Investment_in_Mutual_Fund','Investment_Tax_Saving_Bond','Investment_in_Commudity','Investment_in_Equity','Investment_in_Derivative','Life_Insurance','Medical_Insurance','Portfolio_Balance','REF_NO'],axis =1, inplace=True)"
   ]
  },
  {
   "cell_type": "code",
   "execution_count": 57,
   "id": "a6633b01",
   "metadata": {},
   "outputs": [
    {
     "data": {
      "text/plain": [
       "(2031, 23)"
      ]
     },
     "execution_count": 57,
     "metadata": {},
     "output_type": "execute_result"
    }
   ],
   "source": [
    "customer_class_test.shape"
   ]
  },
  {
   "cell_type": "code",
   "execution_count": 58,
   "id": "effd926a",
   "metadata": {},
   "outputs": [
    {
     "data": {
      "text/plain": [
       "Index(['children', 'age_band', 'status', 'occupation', 'occupation_partner',\n",
       "       'home_status', 'family_income', 'self_employed',\n",
       "       'self_employed_partner', 'year_last_moved', 'TVarea', 'post_code',\n",
       "       'post_area', 'Average_Credit_Card_Transaction', 'Balance_Transfer',\n",
       "       'Term_Deposit', 'Average_A/C_Balance', 'Personal_Loan', 'Home_Loan',\n",
       "       'Online_Purchase_Amount', 'gender', 'region', 'total_investments'],\n",
       "      dtype='object')"
      ]
     },
     "execution_count": 58,
     "metadata": {},
     "output_type": "execute_result"
    }
   ],
   "source": [
    "customer_class_test.columns"
   ]
  },
  {
   "cell_type": "code",
   "execution_count": 59,
   "id": "5dd27a9d",
   "metadata": {},
   "outputs": [],
   "source": [
    "customer_test_cont = customer_class_test[['year_last_moved','Average_Credit_Card_Transaction','Balance_Transfer','Term_Deposit','Average_A/C_Balance','Personal_Loan','Home_Loan','Online_Purchase_Amount','total_investments']]\n",
    "customer_test_cat = customer_class_test.drop(['year_last_moved','Average_Credit_Card_Transaction','Balance_Transfer','Term_Deposit','Average_A/C_Balance','Personal_Loan','Home_Loan','Online_Purchase_Amount','total_investments'], axis = 1)"
   ]
  },
  {
   "cell_type": "code",
   "execution_count": 60,
   "id": "e378198a",
   "metadata": {},
   "outputs": [],
   "source": [
    "customer_test_cat = customer_test_cat.apply(le.fit_transform)"
   ]
  },
  {
   "cell_type": "code",
   "execution_count": 61,
   "id": "c05375c0",
   "metadata": {},
   "outputs": [
    {
     "data": {
      "text/html": [
       "<div>\n",
       "<style scoped>\n",
       "    .dataframe tbody tr th:only-of-type {\n",
       "        vertical-align: middle;\n",
       "    }\n",
       "\n",
       "    .dataframe tbody tr th {\n",
       "        vertical-align: top;\n",
       "    }\n",
       "\n",
       "    .dataframe thead th {\n",
       "        text-align: right;\n",
       "    }\n",
       "</style>\n",
       "<table border=\"1\" class=\"dataframe\">\n",
       "  <thead>\n",
       "    <tr style=\"text-align: right;\">\n",
       "      <th></th>\n",
       "      <th>children</th>\n",
       "      <th>age_band</th>\n",
       "      <th>status</th>\n",
       "      <th>occupation</th>\n",
       "      <th>occupation_partner</th>\n",
       "      <th>home_status</th>\n",
       "      <th>family_income</th>\n",
       "      <th>self_employed</th>\n",
       "      <th>self_employed_partner</th>\n",
       "      <th>TVarea</th>\n",
       "      <th>...</th>\n",
       "      <th>region</th>\n",
       "      <th>year_last_moved</th>\n",
       "      <th>Average_Credit_Card_Transaction</th>\n",
       "      <th>Balance_Transfer</th>\n",
       "      <th>Term_Deposit</th>\n",
       "      <th>Average_A/C_Balance</th>\n",
       "      <th>Personal_Loan</th>\n",
       "      <th>Home_Loan</th>\n",
       "      <th>Online_Purchase_Amount</th>\n",
       "      <th>total_investments</th>\n",
       "    </tr>\n",
       "  </thead>\n",
       "  <tbody>\n",
       "    <tr>\n",
       "      <th>0</th>\n",
       "      <td>4</td>\n",
       "      <td>11</td>\n",
       "      <td>1</td>\n",
       "      <td>5</td>\n",
       "      <td>1</td>\n",
       "      <td>1</td>\n",
       "      <td>3</td>\n",
       "      <td>0</td>\n",
       "      <td>0</td>\n",
       "      <td>7</td>\n",
       "      <td>...</td>\n",
       "      <td>8</td>\n",
       "      <td>1973</td>\n",
       "      <td>41.98</td>\n",
       "      <td>55.47</td>\n",
       "      <td>24.99</td>\n",
       "      <td>44.47</td>\n",
       "      <td>0.00</td>\n",
       "      <td>0.00</td>\n",
       "      <td>0.00</td>\n",
       "      <td>292.93</td>\n",
       "    </tr>\n",
       "    <tr>\n",
       "      <th>1</th>\n",
       "      <td>4</td>\n",
       "      <td>3</td>\n",
       "      <td>1</td>\n",
       "      <td>8</td>\n",
       "      <td>0</td>\n",
       "      <td>1</td>\n",
       "      <td>11</td>\n",
       "      <td>0</td>\n",
       "      <td>0</td>\n",
       "      <td>0</td>\n",
       "      <td>...</td>\n",
       "      <td>7</td>\n",
       "      <td>1996</td>\n",
       "      <td>0.00</td>\n",
       "      <td>0.00</td>\n",
       "      <td>0.00</td>\n",
       "      <td>29.49</td>\n",
       "      <td>170.31</td>\n",
       "      <td>13.47</td>\n",
       "      <td>57.46</td>\n",
       "      <td>713.77</td>\n",
       "    </tr>\n",
       "    <tr>\n",
       "      <th>2</th>\n",
       "      <td>4</td>\n",
       "      <td>11</td>\n",
       "      <td>1</td>\n",
       "      <td>1</td>\n",
       "      <td>5</td>\n",
       "      <td>1</td>\n",
       "      <td>4</td>\n",
       "      <td>0</td>\n",
       "      <td>0</td>\n",
       "      <td>6</td>\n",
       "      <td>...</td>\n",
       "      <td>8</td>\n",
       "      <td>1958</td>\n",
       "      <td>0.00</td>\n",
       "      <td>154.47</td>\n",
       "      <td>0.00</td>\n",
       "      <td>87.83</td>\n",
       "      <td>0.00</td>\n",
       "      <td>0.00</td>\n",
       "      <td>0.00</td>\n",
       "      <td>394.60</td>\n",
       "    </tr>\n",
       "    <tr>\n",
       "      <th>3</th>\n",
       "      <td>0</td>\n",
       "      <td>1</td>\n",
       "      <td>1</td>\n",
       "      <td>3</td>\n",
       "      <td>3</td>\n",
       "      <td>1</td>\n",
       "      <td>5</td>\n",
       "      <td>0</td>\n",
       "      <td>0</td>\n",
       "      <td>4</td>\n",
       "      <td>...</td>\n",
       "      <td>6</td>\n",
       "      <td>1993</td>\n",
       "      <td>18.98</td>\n",
       "      <td>60.98</td>\n",
       "      <td>0.00</td>\n",
       "      <td>0.00</td>\n",
       "      <td>102.43</td>\n",
       "      <td>0.00</td>\n",
       "      <td>0.00</td>\n",
       "      <td>234.65</td>\n",
       "    </tr>\n",
       "    <tr>\n",
       "      <th>4</th>\n",
       "      <td>4</td>\n",
       "      <td>10</td>\n",
       "      <td>4</td>\n",
       "      <td>5</td>\n",
       "      <td>8</td>\n",
       "      <td>1</td>\n",
       "      <td>0</td>\n",
       "      <td>0</td>\n",
       "      <td>0</td>\n",
       "      <td>7</td>\n",
       "      <td>...</td>\n",
       "      <td>7</td>\n",
       "      <td>1976</td>\n",
       "      <td>0.00</td>\n",
       "      <td>144.90</td>\n",
       "      <td>0.00</td>\n",
       "      <td>32.98</td>\n",
       "      <td>0.00</td>\n",
       "      <td>17.93</td>\n",
       "      <td>5.45</td>\n",
       "      <td>370.09</td>\n",
       "    </tr>\n",
       "  </tbody>\n",
       "</table>\n",
       "<p>5 rows × 23 columns</p>\n",
       "</div>"
      ],
      "text/plain": [
       "   children  age_band  status  occupation  occupation_partner  home_status  \\\n",
       "0         4        11       1           5                   1            1   \n",
       "1         4         3       1           8                   0            1   \n",
       "2         4        11       1           1                   5            1   \n",
       "3         0         1       1           3                   3            1   \n",
       "4         4        10       4           5                   8            1   \n",
       "\n",
       "   family_income  self_employed  self_employed_partner  TVarea  ...  region  \\\n",
       "0              3              0                      0       7  ...       8   \n",
       "1             11              0                      0       0  ...       7   \n",
       "2              4              0                      0       6  ...       8   \n",
       "3              5              0                      0       4  ...       6   \n",
       "4              0              0                      0       7  ...       7   \n",
       "\n",
       "   year_last_moved  Average_Credit_Card_Transaction  Balance_Transfer  \\\n",
       "0             1973                            41.98             55.47   \n",
       "1             1996                             0.00              0.00   \n",
       "2             1958                             0.00            154.47   \n",
       "3             1993                            18.98             60.98   \n",
       "4             1976                             0.00            144.90   \n",
       "\n",
       "   Term_Deposit  Average_A/C_Balance  Personal_Loan  Home_Loan  \\\n",
       "0         24.99                44.47           0.00       0.00   \n",
       "1          0.00                29.49         170.31      13.47   \n",
       "2          0.00                87.83           0.00       0.00   \n",
       "3          0.00                 0.00         102.43       0.00   \n",
       "4          0.00                32.98           0.00      17.93   \n",
       "\n",
       "   Online_Purchase_Amount  total_investments  \n",
       "0                    0.00             292.93  \n",
       "1                   57.46             713.77  \n",
       "2                    0.00             394.60  \n",
       "3                    0.00             234.65  \n",
       "4                    5.45             370.09  \n",
       "\n",
       "[5 rows x 23 columns]"
      ]
     },
     "execution_count": 61,
     "metadata": {},
     "output_type": "execute_result"
    }
   ],
   "source": [
    "customer_test_final = pd.concat([customer_test_cat,customer_test_cont], axis = 1)\n",
    "customer_test_final.head()"
   ]
  },
  {
   "cell_type": "code",
   "execution_count": 62,
   "id": "b3476af5",
   "metadata": {},
   "outputs": [
    {
     "data": {
      "text/plain": [
       "children                           0\n",
       "age_band                           0\n",
       "status                             0\n",
       "occupation                         0\n",
       "occupation_partner                 0\n",
       "home_status                        0\n",
       "family_income                      0\n",
       "self_employed                      0\n",
       "self_employed_partner              0\n",
       "TVarea                             0\n",
       "post_code                          0\n",
       "post_area                          0\n",
       "gender                             0\n",
       "region                             0\n",
       "year_last_moved                    0\n",
       "Average_Credit_Card_Transaction    0\n",
       "Balance_Transfer                   0\n",
       "Term_Deposit                       0\n",
       "Average_A/C_Balance                0\n",
       "Personal_Loan                      0\n",
       "Home_Loan                          0\n",
       "Online_Purchase_Amount             0\n",
       "total_investments                  0\n",
       "dtype: int64"
      ]
     },
     "execution_count": 62,
     "metadata": {},
     "output_type": "execute_result"
    }
   ],
   "source": [
    "customer_test_final.isnull().sum()"
   ]
  },
  {
   "cell_type": "code",
   "execution_count": 63,
   "id": "3c83fd67",
   "metadata": {},
   "outputs": [],
   "source": [
    "y_pred = logreg.predict(customer_test_final)"
   ]
  },
  {
   "cell_type": "code",
   "execution_count": 64,
   "id": "be7382d4",
   "metadata": {},
   "outputs": [
    {
     "name": "stdout",
     "output_type": "stream",
     "text": [
      "(2031,)\n"
     ]
    }
   ],
   "source": [
    "print(y_pred.shape)"
   ]
  },
  {
   "cell_type": "code",
   "execution_count": 65,
   "id": "d3abd5be",
   "metadata": {},
   "outputs": [],
   "source": [
    "customer_test_df = pd.read_csv('existing_base_test.csv')"
   ]
  },
  {
   "cell_type": "code",
   "execution_count": 66,
   "id": "af19fb67",
   "metadata": {},
   "outputs": [],
   "source": [
    "df1 = pd.DataFrame({'x':customer_test_df['REF_NO'], 'y': y_pred})"
   ]
  },
  {
   "cell_type": "code",
   "execution_count": 67,
   "id": "c844284c",
   "metadata": {},
   "outputs": [],
   "source": [
    "df1.to_csv('output_customer_classification.csv',index=False, header=False)"
   ]
  }
 ],
 "metadata": {
  "kernelspec": {
   "display_name": "Python 3 (ipykernel)",
   "language": "python",
   "name": "python3"
  },
  "language_info": {
   "codemirror_mode": {
    "name": "ipython",
    "version": 3
   },
   "file_extension": ".py",
   "mimetype": "text/x-python",
   "name": "python",
   "nbconvert_exporter": "python",
   "pygments_lexer": "ipython3",
   "version": "3.9.12"
  }
 },
 "nbformat": 4,
 "nbformat_minor": 5
}
